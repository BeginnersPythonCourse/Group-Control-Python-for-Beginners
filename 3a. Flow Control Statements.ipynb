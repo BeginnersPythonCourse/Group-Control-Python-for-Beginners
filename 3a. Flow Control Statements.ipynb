{
 "cells": [
  {
   "cell_type": "markdown",
   "metadata": {},
   "source": [
    "# Lesson 3a\n",
    "# Flow Control Statements "
   ]
  },
  {
   "cell_type": "markdown",
   "metadata": {},
   "source": [
    "To recap, we have now covered Python Data Types & Variables, Mathematical, Comparison & Boolean operators, and how Python reads and processes programs. We have covered many of the basics, and if we understand these fundamentals thoroughly, it will allow us to start creating sophisticated & exciting programs. As mentioned previously, based on Boolean values or the outputs of operators, Python can choose to run a section of code multiple times, only execute certain parts of the code, or skip sections of code entirely. This functionality in Python is called *Flow Control Statements*, and they are the implementation of the decisions that are taken at each stage in a flow diagram."
   ]
  },
  {
   "cell_type": "markdown",
   "metadata": {},
   "source": [
    "## Blocks of Code\n",
    "\n",
    "Before we introduce our first flow control statement, it's important to introduce the concepts of a *block of code* and *indentation*. In programming, whitespace and when text starts on a line are important. An indentation in Python is created by pressing 'Tab' on the keyboard and looks equivalent to inputting 4 spaces at the start of a line of code. Indentations are used to separate blocks of code and distinguish parts of code in the program as being separate from each other. They also create much more readable code as the distinct sections are clearly split up and distinguishable.\n",
    "\n",
    "Blocks of Code in Python follow these rules:\n",
    "\n",
    "- Blocks begin when the indentation increases.\n",
    "- Blocks can contain other blocks.\n",
    "- Blocks end when the indentation returns to where it was before the block started.\n",
    "\n",
    "The following example of indentation contains an *if* statement, which we will cover very shortly."
   ]
  },
  {
   "cell_type": "code",
   "execution_count": 1,
   "metadata": {},
   "outputs": [
    {
     "name": "stdout",
     "output_type": "stream",
     "text": [
      "What is your Username? Barclays123\n",
      "What is your Password? Password\n",
      "Access Granted\n"
     ]
    }
   ],
   "source": [
    "# Ask for User Input, this time for a name and password.\n",
    "\n",
    "userName = input(\"What is your Username? \")\n",
    "userPassword = input(\"What is your Password? \")\n",
    "\n",
    "if (userName == \"Barclays123\"):\n",
    "    \n",
    "    # This is the beginning of the 1st Indentation- the line starts a Tab (or 4 spaces) after the last indentation.\n",
    "    \n",
    "    if (userPassword == \"Password\"):\n",
    "        \n",
    "        # This is the beginning of the 2nd indentation- the line starts a Tab (or 4 spaces) after the last indentation.\n",
    "        print(\"Access Granted\")\n",
    "        # This is the End of the 2nd indentation as the next line returns to previous Indentation level.\n",
    "    \n",
    "    else:\n",
    "        # Beginning of new indentation\n",
    "        print(\"Incorrect Password!\")\n",
    "        # End of Indentation\n",
    "\n",
    "    # This is the end of the 1st Indentation as the next line returns to previous Indentation level.\n",
    "    \n",
    "else:\n",
    "    # Beginning of new indentation\n",
    "    print(\"Unrecognised User\")\n",
    "    # End of Indentation"
   ]
  },
  {
   "cell_type": "markdown",
   "metadata": {},
   "source": [
    "As you can hopefully see above, the indentation defines different blocks and allows both Python and the reader to distinguish between related and unrelated blocks of code.\n",
    "\n",
    "## If Else Statements\n",
    "\n",
    "One of the most common types of flow control statements is the ```if``` statement (see above for example). The block of code indented after an ```if``` statement will execute if the condition contained within the ```if``` statement is ```True```. Translated into English, if statements can be read as \"If this condition is true, execute the following code block.\" All flow control statements generally follow a similar structure, but if statements specifically contain:\n",
    "\n",
    "- The ```if``` keyword.\n",
    "- An expression which will either resolve to  ```True``` or ```False```.\n",
    "- A colon.\n",
    "- Starting on the next line, an indented block of code which will be executed if the condition is met.\n",
    "\n",
    "In the example above, the following line defines an if statement:\n",
    "\n",
    "```\n",
    "if (userName == \"Barclays123\"):\n",
    "    *BLOCK OF CODE*\n",
    "```\n",
    "This is an if statement as it contains the ```if``` keyword, an expression which can either evaluate to ```True``` or ```False```, a colon, and then is followed by an indented block of code.\n",
    "\n",
    "An if clause can optionally be followed by an ```else``` statement. The else clause is executed only when the if statement’s condition is False. In English, an else statement could be read as, \"If this condition is true, execute this code. Or else, execute that code.\"\n",
    "\n",
    "An else statement contains:\n",
    "\n",
    "- The ```else``` keyword.\n",
    "- A colon.\n",
    "- Starting on the next line, an indented block of code which will be executed if the ```if``` statement condition is *not* met.\n",
    "\n",
    "In the example above, the following line defines an else statement:\n",
    "\n",
    "```\n",
    "else:\n",
    "    # Beginning of new indentation\n",
    "    print(\"Unrecognised User\")\n",
    "    # End of Indentation\n",
    "```\n",
    "\n",
    "## Elif Statements \n",
    "\n",
    "If-Else statements are perfect if we only want to execute one of two options, however, there are plenty of instances where we might want to execute a different code block for more than two possibilities. The ```elif``` statement is an \"else if\" statement that always follows an if or another elif statement and comes before the final else statement. It provides another condition that is checked only if all the previous conditions were ```False```. \n",
    "\n",
    "An elif statement contains:\n",
    "\n",
    "- The ```elif``` keyword.\n",
    "- An expression which will either resolve to  ```True``` or ```False```.\n",
    "- A colon.\n",
    "- Starting on the next line, an indented block of code which will be executed if the condition is met."
   ]
  },
  {
   "cell_type": "code",
   "execution_count": 2,
   "metadata": {},
   "outputs": [
    {
     "name": "stdout",
     "output_type": "stream",
     "text": [
      "Please Enter a Number: 8\n",
      "8 is divisible by 2!\n"
     ]
    }
   ],
   "source": [
    "# Ask the User to Input a Number\n",
    "\n",
    "userNumber = int(input(\"Please Enter a Number: \"))\n",
    "\n",
    "# The first condition checks if the number entered by the user is divisible 2.\n",
    "if userNumber % 2 == 0:\n",
    "    print(str(userNumber) + \" is divisible by 2!\")\n",
    "    \n",
    "# If the number is not divisible by 2, the program then checks if is divisible by 3.\n",
    "elif userNumber % 3 == 0:\n",
    "    print(str(userNumber) + \" is divisible by 3!\")\n",
    "\n",
    "# If the number is not divisible by 2 or 3, the program then checks if is divisible by 5.\n",
    "elif userNumber % 5 == 0:\n",
    "    print(str(userNumber) + \" is divisible by 5!\")\n",
    "\n",
    "# If the number is not divisible by 2, 3 or 5, the program then checks if is divisible by 7.\n",
    "elif userNumber % 7 == 0:\n",
    "    print(str(userNumber) + \" is divisible by 7!\")\n",
    "\n",
    "# Finally, if none of those conditions are met - the program executes the else statement which tells the user that\n",
    "# their number is not divisible by 2, 3, 5 or 7.\n",
    "else:\n",
    "    print(str(userNumber) + \" is not divisible by 2, 3, 5 or 7!\")"
   ]
  },
  {
   "cell_type": "markdown",
   "metadata": {},
   "source": [
    "You'll notice in the example above that I include a final ```else``` clause in the flow control statement. This means that it is guaranteed that one (and only one) of the blocks of code will be executed. If we were to describe this process in English, this type of flow control structure would be: \"If the first condition is true, do this. Else, if the second condition is true, do that. Otherwise, do something else.\" \n",
    "\n",
    "Remember when creating if-elif-else statements that:\n",
    "\n",
    "- There is always exactly one ```if``` statement.\n",
    "- Any ```elif``` statements needed should follow the if statement.\n",
    "- If you want to be sure that at least one clause is executed, close the structure with an ```else``` statement."
   ]
  },
  {
   "cell_type": "markdown",
   "metadata": {},
   "source": [
    "## While Loops\n",
    "\n",
    "There will be instances where we would like a piece of code to repeat over and over again until a certain condition is met. The code in a ```while``` loop will keep being executed as long as the condition in the ```while``` statement is ```True```.\n",
    "\n",
    "Similarly to if statements, while statements always contain:\n",
    "\n",
    "- The ```while``` keyword.\n",
    "- An expression which will either resolve to ```True``` or ```False```.\n",
    "- A colon.\n",
    "- Starting on the next line, an indented block of code which will be executed if the condition is met.\n",
    "\n",
    "This syntax is very similar to an if statement, but the key difference is what happens when the code in the block has completed executing. In an ```if``` statement, the program will continue past the ```if``` statement once the block of code has been executed. But in a ```while``` statement, the program will jump back to the start of the ```while``` loop and begin to execute the whole statement again. As the flow of logic can loop, we often refer to a while statement as a while loop."
   ]
  },
  {
   "cell_type": "code",
   "execution_count": 3,
   "metadata": {},
   "outputs": [
    {
     "name": "stdout",
     "output_type": "stream",
     "text": [
      "The current sum of numbers is: 0\n",
      "Please Enter a Number to add to your Total: 20\n",
      "The current sum of numbers is: 20\n",
      "Please Enter a Number to add to your Total: 35\n",
      "The current sum of numbers is: 55\n",
      "Please Enter a Number to add to your Total: 31\n",
      "The current sum of numbers is: 86\n",
      "Please Enter a Number to add to your Total: 25\n",
      "The Sum of Numbers Entered has Exceeded 100!\n",
      "The Final Sum of Numbers is 111\n"
     ]
    }
   ],
   "source": [
    "# Initialise Count Variable which has the value 0.\n",
    "count = 0 \n",
    "\n",
    "# Define a While Loop which will keep repeating until the sum of all of the numbers entered exceeds 100.\n",
    "while count <= 100:\n",
    "    \n",
    "    print(\"The current sum of numbers is: \" + str(count))\n",
    "    \n",
    "    inputNumber = int(input(\"Please Enter a Number to add to your Total: \"))\n",
    "    \n",
    "    count = count + inputNumber\n",
    "        \n",
    "print(\"The Sum of Numbers Entered has Exceeded 100!\")\n",
    "print(\"The Final Sum of Numbers is \" + str(count))"
   ]
  },
  {
   "cell_type": "markdown",
   "metadata": {},
   "source": [
    "## For Loops\n",
    "\n",
    "For loops, similarly to while loops, execute a block of code repeatedly. However, instead of continuing to execute while a given condition is ```True```, for loops execute a block of code a specified number of times before the program moves on. \n",
    "\n",
    "### The ```range()``` Function\n",
    "\n",
    "A useful built-in Python function to use with for loops is the ```range()``` function. The ```range()``` function can be called with one input integer, which tells the function where to stop counting after beginning to count from 0 (note that the counting starts at 0, rather than 1 as we might intuitively expect)."
   ]
  },
  {
   "cell_type": "code",
   "execution_count": 4,
   "metadata": {},
   "outputs": [
    {
     "name": "stdout",
     "output_type": "stream",
     "text": [
      "0\n",
      "1\n",
      "2\n",
      "3\n",
      "4\n",
      "5\n"
     ]
    }
   ],
   "source": [
    "# This is a sneak preview of a for loop, where we are simply printing every value outputted by the range(6) function\n",
    "for value in range(6):\n",
    "    print(value)"
   ]
  },
  {
   "cell_type": "markdown",
   "metadata": {},
   "source": [
    "Optionally, it's possible to add 1 or 2 more arguments to the ```range()``` function, which allows you to change the starting number that the function counts from and the size of the steps taken between every count. \n",
    "\n",
    "The syntax for the ```range()``` function is: \n",
    "```\n",
    "range(start, stop, step)\n",
    "```\n",
    "where *start* is the starting value, *stop* is the stopping value, and *step* is the size of the steps taken between the starting and stopping values. By default, *start* equals 0 and *step* equals 1."
   ]
  },
  {
   "cell_type": "code",
   "execution_count": 5,
   "metadata": {},
   "outputs": [
    {
     "name": "stdout",
     "output_type": "stream",
     "text": [
      "10\n",
      "20\n",
      "30\n",
      "40\n",
      "50\n",
      "60\n"
     ]
    }
   ],
   "source": [
    "# This is another sneak preview of a for loop, where we are simply printing every value outputted by the range(10, 61, 10)\n",
    "# As we've started from 10 and are counting in steps of 10 range(10, 61, 10) outputs multiples of 10 up to 60.\n",
    "\n",
    "for value in range(10, 61, 10):\n",
    "    print(value)"
   ]
  },
  {
   "cell_type": "markdown",
   "metadata": {},
   "source": [
    "The ```range()``` function is very useful to use with for loops as it defines a set of integers that we can work through one-by-one and apply each individual value outputted by the ```range()``` function to the same block of code. \n",
    "\n",
    "When defining for loops, they must always contain:\n",
    "\n",
    "- The ```for``` keyword.\n",
    "- A variable name.\n",
    "- The ```in``` keyword.\n",
    "- A set of values that the for loop will iterate through (if we would like to loop through a set of integers we can use the ```range()``` function).\n",
    "- A colon.\n",
    "- Starting on the next line, an indented block of code which will execute for every item in the set of values that we are looping through."
   ]
  },
  {
   "cell_type": "code",
   "execution_count": 6,
   "metadata": {},
   "outputs": [
    {
     "name": "stdout",
     "output_type": "stream",
     "text": [
      "0 is even.\n",
      "1 is odd.\n",
      "2 is even.\n",
      "3 is odd.\n",
      "4 is even.\n"
     ]
    }
   ],
   "source": [
    "for value in range(5):\n",
    "    \n",
    "    # Here we can combine a for loop with a similar if - else statement which we used earlier.\n",
    "    # The for loop is running this same block of code for every value in range(5) but everytime the block of \n",
    "    # code is executed, the value changes to the next number in the range(5) output.\n",
    "    # The first time it's executed, the value = 0,\n",
    "    # The second time its executed, the value  = 1,\n",
    "    # ....\n",
    "    # The final time it's executed, the value = 4.\n",
    "    # Once the code block has been executed for all values in range(5). The for loop is complete and the program will terminate.\n",
    "    \n",
    "    if value % 2 == 0:\n",
    "        print(str(value) + \" is even.\")\n",
    "    else:\n",
    "        print(str(value) + \" is odd.\")"
   ]
  }
 ],
 "metadata": {
  "kernelspec": {
   "display_name": "Python 3",
   "language": "python",
   "name": "python3"
  },
  "language_info": {
   "codemirror_mode": {
    "name": "ipython",
    "version": 3
   },
   "file_extension": ".py",
   "mimetype": "text/x-python",
   "name": "python",
   "nbconvert_exporter": "python",
   "pygments_lexer": "ipython3",
   "version": "3.6.4"
  }
 },
 "nbformat": 4,
 "nbformat_minor": 2
}
