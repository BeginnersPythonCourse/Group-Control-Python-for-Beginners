{
 "cells": [
  {
   "cell_type": "markdown",
   "metadata": {},
   "source": [
    "# Lesson 1d \n",
    "# Creating Our First Python Program "
   ]
  },
  {
   "cell_type": "markdown",
   "metadata": {},
   "source": [
    "We've now covered the basics of data types, variables and mathematical operations, which has well-equipped us to begin writing our first program! I will quickly introduce an example of a program and explain the basic terminology we use when writing programs (or scripts) and the process that Python follows when executing a program. This code will also introduce a number of basic, built-in Python functions that we can use in our programs."
   ]
  },
  {
   "cell_type": "code",
   "execution_count": 1,
   "metadata": {},
   "outputs": [
    {
     "name": "stdout",
     "output_type": "stream",
     "text": [
      "Hello Introduction to Python Cohort!\n",
      "Please enter your Name:Alexander\n",
      "Hello Alexander\n",
      "The Length of your name is: 9\n",
      "Please enter your Age: 25\n",
      "You will be 26 in a year.\n",
      "You are 75 years from being 100!\n"
     ]
    }
   ],
   "source": [
    "# This is our First Program in Python!\n",
    "# This program will take an Input of a Name & Age and then give us an output based on our input().\n",
    "\n",
    "print(\"Hello Introduction to Python Cohort!\")\n",
    "\n",
    "userName = input('Please enter your Name:')\n",
    " \n",
    "# Below we are using + with two strings, so the strings will be concatenated! \n",
    "\n",
    "print(\"Hello \" + userName)\n",
    "\n",
    "# As we want to concatenate strings again, we need to convert len(userName) to a string using str()\n",
    "\n",
    "print(\"The Length of your name is: \" + str(len(userName)))\n",
    "\n",
    "# Using input() again, we are asking the User for their Age.\n",
    "# input() will return our user input as a string but we would like to store is an int, so we wrap the input in int().\n",
    "\n",
    "userAge = int(input(\"Please enter your Age: \"))\n",
    "\n",
    "print('You will be ' + str(userAge + 1) + ' in a year.')\n",
    "print('You are ' + str(100 - userAge) + ' years from being 100!')"
   ]
  },
  {
   "cell_type": "markdown",
   "metadata": {},
   "source": [
    "# Errors are Okay!\n",
    "\n",
    "Before we disect the code above, I thought now would be as good a time as any to discuss errors when writing code  - programs will crash and stop running if they contains code that Python can't understand. Errors are an unavoidable part of writing code and you shouldn't be afraid of causing errors as they're an effective way to problem solve using trial and error. Like any new skill, in the beginning, it's likely that you might make a few errors but please don't be disheartened by this and take every error as a chance to learn something new. Once you've spent some time focusing on and fixing an error, you are much less likely to make the same mistake again! If you want to know more about an error causing your programe to crash, it's always worthwhile searching the error message online as someone will have undoubtedly faced a similar problem!"
   ]
  },
  {
   "cell_type": "markdown",
   "metadata": {},
   "source": [
    "# How Python Reads a Program\n",
    "\n",
    "Generally, a line in Python refers to a single statement or instruction that appears on a single line in the script. We refer to individual lines by their relative order in the program and each line is numbered sequentially (even lines that do not contain any text, but simply contain whitespace are numbered).\n",
    "\n",
    "For example the first line above is \n",
    "``` \n",
    "# This is our First Program in Python!\n",
    "```\n",
    "The fourth line in the program is\n",
    "``` \n",
    "print(\"Hello Introduction to Python Cohort!\")\n",
    "```\n",
    "The sixth line is:\n",
    "``` \n",
    "userName = input('Please enter your Name:')\n",
    "```\n",
    "and so on.\n",
    "\n",
    "When writing programs, a single line is terminated by pressing Enter, which inputs a new line character. Python processes the program and executes the statements in each line, in order, line by line until there are no further lines to execute. Once there are no further lines to execute, the program *terminates*, that is, it stops running."
   ]
  },
  {
   "cell_type": "markdown",
   "metadata": {},
   "source": [
    "\n",
    "\n",
    "# Comments \n",
    "\n",
    "The following lines are called comments and are identified by the '#' symbol at the beginning of the line.\n",
    "```\n",
    "# This is our First Program in Python!\n",
    "# This program will take an Input of a Name & Age and then give us an output based on our Input.\n",
    "```\n",
    "\n",
    "Python ignores comments and does not execute any code on a line after the ```#``` symbol. You can use them to write notes or remind yourself what the code is trying to do. Also when coding as part of a team, using comments is very good practise as it informs your colleagues/other people reading the code what the program is trying to do. If a comment symbol appears midway through a line, Python will execute all the code preceding the ```#``` symbol but ignore everything after."
   ]
  },
  {
   "cell_type": "code",
   "execution_count": 2,
   "metadata": {},
   "outputs": [
    {
     "name": "stdout",
     "output_type": "stream",
     "text": [
      "Comments are very useful!\n"
     ]
    }
   ],
   "source": [
    "print(\"Comments are very useful!\") # This line prints out my thoughts on comments!"
   ]
  },
  {
   "cell_type": "markdown",
   "metadata": {},
   "source": [
    "# The ```print()``` Function\n",
    "\n",
    "The ```print()``` function displays the value inside its parentheses on the screen. ```print()``` is possibly the simplest example of a *function* in Python. We will definitely be revisiting functions properly in future lessons, but just to introduce you to the language of functions: when we run a line of code containing ```print()``` we say that Python is *calling* the ```print()``` function and the value in the parentheses is being *passed* into the function. A value that is being passed into a function is called an *argument*, for example below we are *calling* the ```print()``` function by *passing* the *argument* \"I love functions!\" into it."
   ]
  },
  {
   "cell_type": "code",
   "execution_count": 3,
   "metadata": {},
   "outputs": [
    {
     "name": "stdout",
     "output_type": "stream",
     "text": [
      "I love Functions!\n"
     ]
    }
   ],
   "source": [
    "print(\"I love Functions!\")"
   ]
  },
  {
   "cell_type": "markdown",
   "metadata": {},
   "source": [
    "# The ```input()``` Function\n",
    "\n",
    "The ```input()``` function waits for the user to type some text on the keyboard and press enter. This allows us to store user inputs as variables in our functions and, based on a user's input, our program can generate different outputs. The ```input()``` function takes a string as an *argument*, which is what is displayed to the user to prompt them to enter a value. If we assign a variable to take the value returned by an ```input()``` function (like the first example above), we can store user input in a variable to use in our programs! Note that ```input()``` will always output a string value. Therefore, if we would like the value inputted to be stored as a numerical value we can wrap the ```input()``` function in ```int()``` or ```float()```."
   ]
  },
  {
   "cell_type": "code",
   "execution_count": 4,
   "metadata": {},
   "outputs": [
    {
     "name": "stdout",
     "output_type": "stream",
     "text": [
      "Please Enter a Number between 1 & 10.9\n",
      "That number is odd!\n"
     ]
    }
   ],
   "source": [
    "inputNumber = int(input(\"Please Enter a Number between 1 & 10.\"))\n",
    "\n",
    "# This is a quick example of the logic that we can use in Python to generate different outcomes based on input.\n",
    "# We will revisit the types of statements shown below in thorough detail soon (see lesson 3)!\n",
    "\n",
    "if (inputNumber < 0 or inputNumber > 10):\n",
    "    print(\"That Number is out of range!\")\n",
    "elif inputNumber % 2 == 0:\n",
    "    print(\"That number is even!\")\n",
    "elif inputNumber % 2 != 0:\n",
    "    print(\"That number is odd!\")"
   ]
  },
  {
   "cell_type": "markdown",
   "metadata": {},
   "source": [
    "# The ```len()``` Function\n",
    "\n",
    "The ```len()``` function takes a string value (or a variable containing a string) as an argument and returns the integer value representing the number of characters in that string."
   ]
  },
  {
   "cell_type": "code",
   "execution_count": 5,
   "metadata": {},
   "outputs": [
    {
     "name": "stdout",
     "output_type": "stream",
     "text": [
      "Please enter your Name: Alexander\n",
      "Your Name is 9 characters long!\n",
      "Your name (Alexander) is not over 10 characters!\n"
     ]
    }
   ],
   "source": [
    "# Store the userName entered by the user as a variable.\n",
    "userName = input('Please enter your Name: ')\n",
    "\n",
    "# Combine a string and the length of the userName entered by the user into a single string.\n",
    "# Wrap the len(userName) in str() as len outputs an integer value.\n",
    "\n",
    "print(\"Your Name is \" + str(len(userName)) + \" characters long!\")\n",
    "\n",
    "# This is another quick example of the logic that we can use in Python to generate different outcomes based on input.\n",
    "# We will revisit the types of statements shown below in thorough detail soon!\n",
    "if len(userName) > 10:\n",
    "    print(\"Your name \" + userName + \" is over 10 characters!\")\n",
    "else:\n",
    "    print(\"Your name (\" + userName + \") is not over 10 characters!\")"
   ]
  }
 ],
 "metadata": {
  "kernelspec": {
   "display_name": "Python 3",
   "language": "python",
   "name": "python3"
  },
  "language_info": {
   "codemirror_mode": {
    "name": "ipython",
    "version": 3
   },
   "file_extension": ".py",
   "mimetype": "text/x-python",
   "name": "python",
   "nbconvert_exporter": "python",
   "pygments_lexer": "ipython3",
   "version": "3.6.4"
  }
 },
 "nbformat": 4,
 "nbformat_minor": 2
}
