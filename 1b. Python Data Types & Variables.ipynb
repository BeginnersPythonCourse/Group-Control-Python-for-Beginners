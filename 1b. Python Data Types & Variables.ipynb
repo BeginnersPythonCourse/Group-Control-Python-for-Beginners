{
 "cells": [
  {
   "cell_type": "markdown",
   "metadata": {},
   "source": [
    "# Lesson 1b\n",
    "# Python Data Types & Variables"
   ]
  },
  {
   "cell_type": "markdown",
   "metadata": {},
   "source": [
    "Before we jump in and start writing code, we will need to be introduced to the Python fundamentals. These fundamentals are the building blocks from which we can begin to start writing code. Taking time to make sure that we thoroughly understand these concepts initially will greatly help our ability to pick up new concepts and apply them quickly in the future.   "
   ]
  },
  {
   "cell_type": "markdown",
   "metadata": {},
   "source": [
    "## Data Types\n",
    "\n",
    "All values that can be stored, manipulated and given as output in Python belong to a specific *data type*. A data type is a category given to values in Python and dictate the type of operation that can be performed to that value. When working with any value in Python, it is important to always take into consideration the data type being used as they can lead to many common errors. \n",
    "\n",
    "Below is a table of the most basic and important data types in Python:\n",
    "\n",
    "\n",
    "| Type        | Example        | Description                                                  |\n",
    "|-------------|----------------|--------------------------------------------------------------|\n",
    "| ``int``     | ``x = 1``      | Integers (i.e., Positive & Negative Whole Numbers).                               |\n",
    "| ``float``   | ``x = 1.0``    | Floating-point numbers (i.e., Numbers with a Decimal Point).                |\n",
    "| ``str``     | ``x = 'abc'``  | String: Text or Characters.                                   |\n",
    "| ``NoneType``| ``x = None``   | Special object indicating the lack of a value (in other words a Null Value).   |\n",
    "| ``bool``    | ``x = True``   | Boolean: True or False values.                                   |\n",
    "\n",
    "We'll take a quick look at each of these in turn."
   ]
  },
  {
   "cell_type": "markdown",
   "metadata": {},
   "source": [
    "## Integers\n",
    "\n",
    "Intergers are whole numbers which can be either positive, negative or 0. These are numbers without a decimal point. \n",
    "\n",
    "For example; 1, 5, 100, -50, 0, 250000. \n",
    "\n",
    "Python's handling of integers is powerful and flexible, intergers are one of the most commonly used data types especially when counting, indexing, representing finite quantites and mathematical operations. "
   ]
  },
  {
   "cell_type": "code",
   "execution_count": 1,
   "metadata": {},
   "outputs": [
    {
     "data": {
      "text/plain": [
       "int"
      ]
     },
     "execution_count": 1,
     "metadata": {},
     "output_type": "execute_result"
    }
   ],
   "source": [
    "# Note that by placing a value in the type() function, which is built into Python, will tell us the data type of the value.\n",
    "\n",
    "type(5)"
   ]
  },
  {
   "cell_type": "markdown",
   "metadata": {},
   "source": [
    "## Floating-Point Numbers\n",
    "\n",
    "Floating-point Numbers (often called floats) can store fractional numbers, ie. numbers with a decimal point. Similarly to Integers, floats can be both positive and negative. \n",
    "\n",
    "For example: 1.25, 6.07, -100.85, 245.8953. \n",
    "\n",
    "Floats offer more precision for numerical values, making them highly useful especially in financial or scientific fields. Please note that even though 5.00 has the same value as 5, if we write a numerical value with decimal points Python will interpret that value as a floating-point number (see below). "
   ]
  },
  {
   "cell_type": "code",
   "execution_count": 2,
   "metadata": {},
   "outputs": [
    {
     "data": {
      "text/plain": [
       "float"
      ]
     },
     "execution_count": 2,
     "metadata": {},
     "output_type": "execute_result"
    }
   ],
   "source": [
    "type(5.00)"
   ]
  },
  {
   "cell_type": "code",
   "execution_count": 3,
   "metadata": {},
   "outputs": [
    {
     "data": {
      "text/plain": [
       "int"
      ]
     },
     "execution_count": 3,
     "metadata": {},
     "output_type": "execute_result"
    }
   ],
   "source": [
    "type(5)"
   ]
  },
  {
   "cell_type": "markdown",
   "metadata": {},
   "source": [
    "## Strings\n",
    "\n",
    "Python also allows us to use and manipulate text values, which we call *strings*. Strings are defined by surrounding the text in quote characters so Python knows where the string begins and ends. It's possible to use either single or double quotes but to correctly define a string the quote types need to match. It's also possible to have a string with no characters in it, '', which is called a blank string or an empty string.\n",
    "\n",
    "Some examples of a few Strings: \"Hello World\", \"I love Python!\", '', 'aabbsadibnd'.\n",
    "\n",
    "Strings are fundamentally different to numerical data types, like Integers and Floats, and many of the operations that can be performed on strings cannot be performed on numerical data types and vice versa. Strings are arguably the most utilized data type and during the course of these lessons we will cover many of the extremely useful string functions and methods that Python has to offer. \n",
    "\n",
    "Please note that it's quite common for programmers to be caught out by numerical values which have been defined as strings, for example '5'. Quite reasonably, at first glance programmers will assume this value is an integer and try to use it as such.  However, since the value has been defined in quotation marks, Python will interpret this value as a string."
   ]
  },
  {
   "cell_type": "code",
   "execution_count": 4,
   "metadata": {},
   "outputs": [
    {
     "data": {
      "text/plain": [
       "str"
      ]
     },
     "execution_count": 4,
     "metadata": {},
     "output_type": "execute_result"
    }
   ],
   "source": [
    "type('5')"
   ]
  },
  {
   "cell_type": "markdown",
   "metadata": {},
   "source": [
    "## None Type\n",
    "\n",
    "Python also includes a special data type, the ``NoneType``, which has only a single possible value: ``None`` and is used to represent the absence of a value or a null value. The need to be able to define the lack of a value might not initially seem like a useful ability in Python but it is surprisingly useful and definitely worth being aware of, especially when working with data. \n",
    "\n",
    "The None type is commonly used to define functions where an output is not guaranteed or when checking to see if a value exists in a dataset."
   ]
  },
  {
   "cell_type": "code",
   "execution_count": 5,
   "metadata": {},
   "outputs": [
    {
     "data": {
      "text/plain": [
       "NoneType"
      ]
     },
     "execution_count": 5,
     "metadata": {},
     "output_type": "execute_result"
    }
   ],
   "source": [
    "type(None)"
   ]
  },
  {
   "cell_type": "markdown",
   "metadata": {},
   "source": [
    "## Boolean Type\n",
    "\n",
    "Unlike Strings or Numerical data types, the Boolean type is a simple data type with two possible values: True or False. \n",
    "\n",
    "Keep in mind that the Boolean values are case-sensitive: the Boolean Values ``True`` and ``False`` must be capitalized or Python will raise an error.\n",
    "\n",
    "Boolean values are fundamental to the flow of logic when writing a program and allow us to compare and equate values."
   ]
  },
  {
   "cell_type": "code",
   "execution_count": 6,
   "metadata": {},
   "outputs": [
    {
     "ename": "NameError",
     "evalue": "name 'true' is not defined",
     "output_type": "error",
     "traceback": [
      "\u001b[1;31m---------------------------------------------------------------------------\u001b[0m",
      "\u001b[1;31mNameError\u001b[0m                                 Traceback (most recent call last)",
      "\u001b[1;32m<ipython-input-6-3bfaff536240>\u001b[0m in \u001b[0;36m<module>\u001b[1;34m()\u001b[0m\n\u001b[1;32m----> 1\u001b[1;33m \u001b[0mprint\u001b[0m\u001b[1;33m(\u001b[0m\u001b[0mtrue\u001b[0m\u001b[1;33m,\u001b[0m \u001b[0mfalse\u001b[0m\u001b[1;33m)\u001b[0m\u001b[1;33m\u001b[0m\u001b[0m\n\u001b[0m",
      "\u001b[1;31mNameError\u001b[0m: name 'true' is not defined"
     ]
    }
   ],
   "source": [
    "print(true, false)"
   ]
  },
  {
   "cell_type": "code",
   "execution_count": 7,
   "metadata": {},
   "outputs": [
    {
     "name": "stdout",
     "output_type": "stream",
     "text": [
      "True False\n"
     ]
    }
   ],
   "source": [
    "print(True, False)"
   ]
  },
  {
   "cell_type": "markdown",
   "metadata": {},
   "source": [
    "# Converting Between data types \n",
    "\n",
    "In many instances it is possible to convert the values between data types, especially between Floats, Integers and Strings by passing the values into the built-in python functions ``float()``, ``int()`` & ``str()``. \n",
    "\n",
    "These data type conversions become important when combining data types of different values, if we wanted to add the values 100 and '2' together, on the surface this seems perfectly reasonable and we would expect python to give us the value of 102.  \n",
    "\n",
    "However, Python would actually raise an error:"
   ]
  },
  {
   "cell_type": "code",
   "execution_count": 8,
   "metadata": {},
   "outputs": [
    {
     "ename": "TypeError",
     "evalue": "unsupported operand type(s) for +: 'int' and 'str'",
     "output_type": "error",
     "traceback": [
      "\u001b[1;31m---------------------------------------------------------------------------\u001b[0m",
      "\u001b[1;31mTypeError\u001b[0m                                 Traceback (most recent call last)",
      "\u001b[1;32m<ipython-input-8-11def7dfb5f7>\u001b[0m in \u001b[0;36m<module>\u001b[1;34m()\u001b[0m\n\u001b[1;32m----> 1\u001b[1;33m \u001b[1;36m100\u001b[0m \u001b[1;33m+\u001b[0m \u001b[1;34m'2'\u001b[0m\u001b[1;33m\u001b[0m\u001b[0m\n\u001b[0m",
      "\u001b[1;31mTypeError\u001b[0m: unsupported operand type(s) for +: 'int' and 'str'"
     ]
    }
   ],
   "source": [
    "100 + '2'"
   ]
  },
  {
   "cell_type": "markdown",
   "metadata": {},
   "source": [
    "We receive an error as Python does not automatically convert between data types. We have defined '2' using quotation marks, the value '2' has been identified as being a *string* and the expression above makes no more sense to python that the expression 100 + 'Elephant'. The good news is that we can convert the string to an integer by wrapping it in the built-in ``int()`` function. By using the ```int()``` function, we explicitly tell Python to convert the string '2' to an integer before performing the addition."
   ]
  },
  {
   "cell_type": "code",
   "execution_count": 9,
   "metadata": {},
   "outputs": [
    {
     "data": {
      "text/plain": [
       "102"
      ]
     },
     "execution_count": 9,
     "metadata": {},
     "output_type": "execute_result"
    }
   ],
   "source": [
    "100 + int('2')"
   ]
  },
  {
   "cell_type": "markdown",
   "metadata": {},
   "source": [
    "The type of data types being used dictates the type of output that will be produced even when the expressions look very similar, when using the '+' operator (more detail to follow very soon) with two strings, Python will combine (or concatenate) the strings together to produce a single string. Instead of defining 100 as integer, if we wrap in quote marks and define it as a string we can see the Python produces a single output string. "
   ]
  },
  {
   "cell_type": "code",
   "execution_count": 10,
   "metadata": {},
   "outputs": [
    {
     "data": {
      "text/plain": [
       "'1002'"
      ]
     },
     "execution_count": 10,
     "metadata": {},
     "output_type": "execute_result"
    }
   ],
   "source": [
    "'100' + '2'"
   ]
  },
  {
   "cell_type": "code",
   "execution_count": 11,
   "metadata": {},
   "outputs": [
    {
     "data": {
      "text/plain": [
       "'Hello World Welcome To Python Training in 2025.'"
      ]
     },
     "execution_count": 11,
     "metadata": {},
     "output_type": "execute_result"
    }
   ],
   "source": [
    "'Hello' + ' ' + 'World' + ' ' 'Welcome' + ' ' + 'To Python Training in' + ' ' + str(2025) + '.'"
   ]
  },
  {
   "cell_type": "markdown",
   "metadata": {},
   "source": [
    "This is why being aware of the data types being used when programming is important as two very similar looking expressions produce very different results depending on the data type. Also note that it is not always possible to convert values between data types, for example the string 'Elephant' cannot be converted to an Integer using ```int()``` as this does not have a logical answer. When thinking about data type conversions it's always worth keeping in mind whether the conversion makes logical sense before trying to implement it.   "
   ]
  },
  {
   "cell_type": "markdown",
   "metadata": {},
   "source": [
    "## Variables \n",
    "\n",
    "Now that we have been introduced to the common data types that a value can have in Python, we now need to introduce the concept of variables. Simply put, a variable is like a box in a computer's memory where we can store a single value. This can be really useful as it allows us to store a result from a previous computation or comparison and reference it later on in our program. \n",
    "\n",
    "We store values in variables with an *assignment statement*. An assignment statement is comprised of a variable name, an equals sign and the value to be stored. For example, if we were looking to store the information relating to a person in computer memory in order to reference this information later in our scripts, we could define these values as variables using the assignment statements below and then use them later in our code. \n",
    "\n",
    "Note that I have had to convert the Boolean variable (Barclays_Employee) & Integer variable (Age) into strings in order to combine the into a single output string. "
   ]
  },
  {
   "cell_type": "code",
   "execution_count": 12,
   "metadata": {},
   "outputs": [
    {
     "name": "stdout",
     "output_type": "stream",
     "text": [
      "Name: John Doe.\n",
      "Age: 35.\n",
      "Barclays Employee? True.\n"
     ]
    }
   ],
   "source": [
    "Name = 'John Doe'\n",
    "Age = 35\n",
    "Barclays_Employee = True\n",
    "\n",
    "# To combine the variables into a single output string we have \n",
    "# to convert the Boolean & Integer Types to Strings using str().\n",
    "\n",
    "print('Name: ' + Name + '.')\n",
    "print('Age: ' + str(Age) + '.')\n",
    "print('Barclays Employee? ' + str(Barclays_Employee) + '.')"
   ]
  },
  {
   "cell_type": "markdown",
   "metadata": {},
   "source": [
    "A variable is *initialized* (or created) for the first time when a value is stored in it and the data type associated to the variable is defined by the value stored when it is first created."
   ]
  },
  {
   "cell_type": "code",
   "execution_count": 13,
   "metadata": {},
   "outputs": [
    {
     "data": {
      "text/plain": [
       "int"
      ]
     },
     "execution_count": 13,
     "metadata": {},
     "output_type": "execute_result"
    }
   ],
   "source": [
    "Age = 42\n",
    "type(Age)"
   ]
  },
  {
   "cell_type": "code",
   "execution_count": 14,
   "metadata": {},
   "outputs": [
    {
     "data": {
      "text/plain": [
       "str"
      ]
     },
     "execution_count": 14,
     "metadata": {},
     "output_type": "execute_result"
    }
   ],
   "source": [
    "Age = '42'\n",
    "type(Age)"
   ]
  },
  {
   "cell_type": "markdown",
   "metadata": {},
   "source": [
    "Once a variable has been created, you can use the variable in expressions and computations with other variables and values - the variables acts as a place holder for the value being stored in it. When a variable is assigned a new value, the old value is completely forgotten and if the variable is referenced again it will only show the latest value assigned to it. "
   ]
  },
  {
   "cell_type": "code",
   "execution_count": 15,
   "metadata": {},
   "outputs": [
    {
     "name": "stdout",
     "output_type": "stream",
     "text": [
      "Old Variable Values: \n",
      "Name: John Doe.\n",
      "Age: 35.\n",
      "Barclays Employee? True.\n",
      "\n",
      "New Variable Values: \n",
      "Name: Johnny Doe.\n",
      "Age: 36.\n",
      "Barclays Employee? False.\n"
     ]
    }
   ],
   "source": [
    "Name = 'John Doe'\n",
    "Age = 35\n",
    "Barclays_Employee = True\n",
    "\n",
    "print('Old Variable Values: ')\n",
    "print('Name: ' + Name + '.')\n",
    "print('Age: ' + str(Age) + '.')\n",
    "print('Barclays Employee? ' + str(Barclays_Employee) + '.')\n",
    "print('')\n",
    "\n",
    "# When turning 36, \"John Doe\" decided to rebrand to \"Johnny Doe\" and leave Barclays.\n",
    "# We can update the Name, Age & Barclays_Employee variables to reflect these changes.\n",
    "\n",
    "Name = \"Johnny Doe\"\n",
    "Age = 36\n",
    "Barclays_Employee = False\n",
    "\n",
    "print('New Variable Values: ')\n",
    "print('Name: ' + Name + '.')\n",
    "print('Age: ' + str(Age) + '.')\n",
    "print('Barclays Employee? ' + str(Barclays_Employee) + '.')"
   ]
  },
  {
   "cell_type": "markdown",
   "metadata": {},
   "source": [
    "If we revisit the idea of a variable being a box that is storing a value, the process of reassigning a value to a variable is equivalent to taking the old value out of the box and then placing a new one in the box. In the example above, we took the value 35 out of the 'Age' box and then placed in the value 36."
   ]
  },
  {
   "cell_type": "markdown",
   "metadata": {},
   "source": [
    "## Variable Naming Conventions\n",
    "\n",
    "A good variable name describes the data it contains, it wouldn't be very helpful if you were to move house, and all of the boxes were named *Stuff*. It's much easier to use a variable name that is related to the value that is being stored, in the example above we used Name, Age & Barclays_Employee as variable names instead of a, b and c as we can easily tell what value will be in the variable when we use it. \n",
    "\n",
    "Though you can name your variables almost anything, Python does have some naming restrictions. The table below has examples of legal variable names. You can name a variable anything as long as it obeys the following three rules:\n",
    "\n",
    "- It can be only one word with no spaces.\n",
    "- It can use only letters, numbers, and the underscore (_) character.\n",
    "- It can’t begin with a number."
   ]
  },
  {
   "cell_type": "markdown",
   "metadata": {},
   "source": [
    "| Valid Variable Names | Invalid variable names                   |\n",
    "|----------------------|------------------------------------------|\n",
    "| full_name            | full-name (hyphens are not allowed)|\n",
    "| fullName      | full name (spaces are not allowed)|\n",
    "| employee1      | 1employee (can’t begin with a number) |\n",
    "| _42      | 42 (can’t begin with a number)|\n",
    "| TOTAL_SUM      | TOTAL_\\\\$UM (special characters like $ are not allowed)|\n",
    "| hello      | \t'hello' (special characters like ' are not allowed)|\n"
   ]
  },
  {
   "cell_type": "markdown",
   "metadata": {},
   "source": [
    "One final thing to note it that variable names (like all other objects in Python) are *case-sensitive*, meaning that name, NAME, Name, and nAmE are four, completely different variable names. Therefore, it's always worth being careful when typing and referring to variables in Python- make sure to double check that case being used is consistent! Following these conventions and rules makes your code more readable and helps prevent errors. It's an important aspect of writing clean & maintainable Python code."
   ]
  }
 ],
 "metadata": {
  "kernelspec": {
   "display_name": "Python 3",
   "language": "python",
   "name": "python3"
  },
  "language_info": {
   "codemirror_mode": {
    "name": "ipython",
    "version": 3
   },
   "file_extension": ".py",
   "mimetype": "text/x-python",
   "name": "python",
   "nbconvert_exporter": "python",
   "pygments_lexer": "ipython3",
   "version": "3.6.4"
  }
 },
 "nbformat": 4,
 "nbformat_minor": 2
}
