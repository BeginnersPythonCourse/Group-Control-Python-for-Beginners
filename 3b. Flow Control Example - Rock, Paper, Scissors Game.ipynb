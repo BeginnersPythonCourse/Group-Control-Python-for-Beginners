{
 "cells": [
  {
   "cell_type": "markdown",
   "metadata": {},
   "source": [
    "# Lesson 3b \n",
    "# Flow Control Example - Rock, Paper, Scissors Game\n",
    "\n",
    "In this example, we will use a combination of flow control statements to create a Rock, Paper, Scissors game, which the user can play against the computer. \n",
    "\n",
    "### Importing Modules\n",
    "\n",
    "Before we start coding out this game, we need to briefly introduce the concept of *importing modules* in Python. As we've seen, Python comes with a basic set of in-built functions such as ```print()```, ```len()``` and ```input()``` which we can use straight away in any Python script. Python also comes with a set of *modules* which contain additional functions called the *standard library*. A *module* is a Python program which contains a related group of functions that we can use in our own programs. For example, the ```random``` module has random number-related functions and ```math``` has mathematically related functions.\n",
    "\n",
    "To import and use functions from modules, we use the *import* keyword followed by the name of the module at the start of the code."
   ]
  },
  {
   "cell_type": "code",
   "execution_count": 1,
   "metadata": {},
   "outputs": [
    {
     "name": "stdout",
     "output_type": "stream",
     "text": [
      "10\n",
      "1\n",
      "2\n",
      "5\n",
      "10\n"
     ]
    }
   ],
   "source": [
    "# import the random function\n",
    "import random\n",
    "\n",
    "# Now we've imported random we can use the functions in this module by prefixing the function name with random.\n",
    "# For example random.randint(start, stop) which returns a random integer between the start and stop integer inputted\n",
    "\n",
    "# iterate through range(5) and for each iteration print a random number between 1 & 10 \n",
    "for value in range(5):\n",
    "    RandomInteger = random.randint(1, 10)\n",
    "    print(RandomInteger)\n",
    "    \n",
    "# if we re-run this code multiple times, you will see that the output is different everytime \n",
    "# as different random numbers are generated each time it is ran."
   ]
  },
  {
   "cell_type": "markdown",
   "metadata": {},
   "source": [
    "Python modules can also be created by other users, many of which are widely used and highly valuable. As you progress in your Python journey, you'll come to appreciate the community of developers who create and share powerful packages. These modules can be freely incorporated into your own Python programs, significantly expanding your coding capabilities."
   ]
  },
  {
   "cell_type": "markdown",
   "metadata": {},
   "source": [
    "Let's break the Rock, Paper, Scissors example down into the following parts which can be combined for the complete solution:\n",
    "- Get the user's selection.\n",
    "- Generate the computer's random selection.\n",
    "- Compare user and computer selections to decide who wins.\n",
    "- Combine previous pieces of code and create logic to keep track of score."
   ]
  },
  {
   "cell_type": "code",
   "execution_count": 2,
   "metadata": {},
   "outputs": [
    {
     "name": "stdout",
     "output_type": "stream",
     "text": [
      "Please Enter your Move: Rock, Paper or Scissors. Stone\n",
      "Please Re-Enter your move, exactly matching one of the options.\n",
      "Please Enter your Move: Rock, Paper or Scissors. rock\n",
      "Please Re-Enter your move, exactly matching one of the options.\n",
      "Please Enter your Move: Rock, Paper or Scissors. Rock\n",
      "Player has Chosen: Rock\n"
     ]
    }
   ],
   "source": [
    "## Get the Users Selection\n",
    "\n",
    "# Initialize a Boolean variable which will show if the User has entered a valid input.\n",
    "userCorrectInput = False\n",
    "\n",
    "# Initialize a while loop that says while userCorrectInput is not True we will keep executing this code\n",
    "while userCorrectInput == False:\n",
    "    \n",
    "    # Use input() to ask user to select Rock, Paper, Scissors  \n",
    "    UserChoice = input(\"Please Enter your Move: Rock, Paper or Scissors. \")\n",
    "    \n",
    "    # We are only accepting User Entries that are exactly either \"Rock\", \"Paper\" or \"Scissors\".\n",
    "    # If the User Enters accurately, the userCorrectInput is changed to True \n",
    "    # so we will break out of the while loop\n",
    "    \n",
    "    if UserChoice == \"Rock\" or UserChoice == \"Paper\" or UserChoice == \"Scissors\":\n",
    "        userCorrectInput = True\n",
    "        print(\"Player has Chosen: \" + UserChoice)\n",
    "    \n",
    "    # If the User Enters anything other than \"Rock\", \"Paper\", \"Scissors\"\n",
    "    # Prompt the user to Re-Enter their move accurately.\n",
    "    else:\n",
    "        print(\"Please Re-Enter your move, exactly matching one of the options.\")"
   ]
  },
  {
   "cell_type": "code",
   "execution_count": 3,
   "metadata": {},
   "outputs": [
    {
     "name": "stdout",
     "output_type": "stream",
     "text": [
      "2\n",
      "Computer has Chosen: Paper\n"
     ]
    }
   ],
   "source": [
    "## Generate the Computer Selection\n",
    "## we will use random.randint(1, 3) to generate a random number between 1 - 3 which we can map to \"Rock\", \"Paper\" & \"Scissors\".\n",
    "\n",
    "# import the random package into our script\n",
    "import random\n",
    "\n",
    "# Generate a random integer between 1 & 3\n",
    "randomNumber = random.randint(1, 3)\n",
    "print(randomNumber)\n",
    "\n",
    "# Based on the random number generated, assign the Computer Choice to be Rock, Paper or Scissors (based on 1, 2, 3)\n",
    "if randomNumber == 1:\n",
    "    ComputerChoice = \"Rock\"\n",
    "elif randomNumber == 2:\n",
    "    ComputerChoice = \"Paper\"\n",
    "elif randomNumber == 3:\n",
    "    ComputerChoice = \"Scissors\"\n",
    "    \n",
    "print(\"Computer has Chosen: \" + ComputerChoice)    "
   ]
  },
  {
   "cell_type": "code",
   "execution_count": null,
   "metadata": {},
   "outputs": [
    {
     "name": "stdout",
     "output_type": "stream",
     "text": [
      "Player Wins!\n"
     ]
    }
   ],
   "source": [
    "## Compare the User & Computer Choices to Decide who Wins each Round\n",
    "# Use a Large if - elif statement to \n",
    "\n",
    "UserChoice = \"Scissors\"\n",
    "ComputerChoice = \"Paper\"\n",
    "\n",
    "if UserChoice == ComputerChoice:\n",
    "    print(\"Draw!\")\n",
    "# Outcomes if Player chooses Scissors\n",
    "elif UserChoice == \"Scissors\" and ComputerChoice == \"Paper\":\n",
    "    print(\"Player Wins!\")\n",
    "elif UserChoice == \"Scissors\" and ComputerChoice == \"Rock\":\n",
    "    print(\"Computer Wins!\")\n",
    "\n",
    "# Outcomes if Player chooses Paper\n",
    "elif UserChoice == \"Paper\" and ComputerChoice == \"Rock\":\n",
    "    print(\"Player Wins!\")\n",
    "elif UserChoice == \"Paper\" and ComputerChoice == \"Scissors\":\n",
    "    print(\"Computer Wins!\")\n",
    "    \n",
    "# Outcomes if Player chooses Rock\n",
    "elif UserChoice == \"Rock\" and ComputerChoice == \"Scissors\":\n",
    "    print(\"Player Wins!\")\n",
    "elif UserChoice == \"Rock\" and ComputerChoice == \"Paper\":\n",
    "    print(\"Computer Wins!\")\n"
   ]
  },
  {
   "cell_type": "code",
   "execution_count": null,
   "metadata": {},
   "outputs": [
    {
     "name": "stdout",
     "output_type": "stream",
     "text": [
      "Welcome to Rock, Paper, Scissors!\n",
      "How Many Games would you like to play? 3\n",
      "Please Enter your Move: Rock, Paper or Scissors. Rock\n",
      "Player has Chosen: Rock\n",
      "Computer has Chosen: Scissors\n",
      "Player Wins!\n"
     ]
    }
   ],
   "source": [
    "# Import the random module at start of script\n",
    "import random\n",
    "\n",
    "# Now it's time to combine the code together to create the finished program!\n",
    "\n",
    "# Initialise variables to count the number of wins and losses!\n",
    "Wins = 0\n",
    "Losses = 0\n",
    "Draws = 0\n",
    "\n",
    "# When we start this program we will ask the User how many games they would like to play\n",
    "\n",
    "print(\"Welcome to Rock, Paper, Scissors!\")\n",
    "\n",
    "NumberOfGames = int(input(\"How Many Games would you like to play? \"))\n",
    "\n",
    "# use the range() function to iterate through the loop the number of times specified by the User/\n",
    "for i in range(NumberOfGames):    \n",
    "    \n",
    "    # Get UserInput (taken from code above)\n",
    "    # Initialize a Boolean variable which will show if the User has entered a valid input.\n",
    "    userCorrectInput = False\n",
    "\n",
    "    # Initialies a while loop that says while userCorrectInput is not True we will keep executing this code.\n",
    "    while userCorrectInput == False:\n",
    "\n",
    "        # Use input() to ask user to select Rock, Paper, Scissors or Quit.    \n",
    "        UserChoice = input(\"Please Enter your Move: Rock, Paper or Scissors. \")\n",
    "\n",
    "        # We are only accepting User Entries that are exactly either \"Rock\", \"Paper\" or \"Scissors\".\n",
    "        # If the User Enters accurately, the userCorrectInput is changed to True \n",
    "        # so we will break out of the while loop\n",
    "\n",
    "        if UserChoice == \"Rock\" or UserChoice == \"Paper\" or UserChoice == \"Scissors\":\n",
    "            userCorrectInput = True\n",
    "            print(\"Player has Chosen: \" + UserChoice)\n",
    "\n",
    "        # If the User Enters anything other than \"Rock\", \"Paper\", \"Scissors\", \"Quit\"\n",
    "        # Prompt the user to Re-Enter their move accurately.\n",
    "        else:\n",
    "            print(\"Please Re-Enter your move, exactly matching one of the options.\")\n",
    "\n",
    "    # Generate the Computers Choice\n",
    "    # Generate a random integer between 1 & 3\n",
    "    randomNumber = random.randint(1, 3)\n",
    "    #print(randomNumber)\n",
    "\n",
    "    # Based on the random number generated, assign the Computer Choice to be Rock, Paper or Scissors (based on 1, 2, 3)\n",
    "    if randomNumber == 1:\n",
    "        ComputerChoice = \"Rock\"\n",
    "    elif randomNumber == 2:\n",
    "        ComputerChoice = \"Paper\"\n",
    "    elif randomNumber == 3:\n",
    "        ComputerChoice = \"Scissors\"\n",
    "\n",
    "    print(\"Computer has Chosen: \" + ComputerChoice)    \n",
    "    \n",
    "    # Compute who wins based on the User & Computer Choices\n",
    "    # Implement Logic Changes to keep track of the wins, losses & draws totals.\n",
    "    \n",
    "    if UserChoice == ComputerChoice:\n",
    "        print(\"Draw!\")\n",
    "        Draws = Draws + 1\n",
    "    \n",
    "    # Outcomes if Player chooses Scissors\n",
    "    elif UserChoice == \"Scissors\" and ComputerChoice == \"Paper\":\n",
    "        print(\"Player Wins!\")\n",
    "        Wins = Wins + 1\n",
    "    elif UserChoice == \"Scissors\" and ComputerChoice == \"Rock\":\n",
    "        print(\"Computer Wins!\")\n",
    "        Losses = Losses + 1\n",
    "\n",
    "    # Outcomes if Player chooses Paper\n",
    "    elif UserChoice == \"Paper\" and ComputerChoice == \"Rock\":\n",
    "        print(\"Player Wins!\")\n",
    "        Wins = Wins + 1\n",
    "    elif UserChoice == \"Paper\" and ComputerChoice == \"Scissors\":\n",
    "        print(\"Computer Wins!\")\n",
    "        Losses = Losses + 1\n",
    "\n",
    "    # Outcomes if Player chooses Rock\n",
    "    elif UserChoice == \"Rock\" and ComputerChoice == \"Scissors\":\n",
    "        print(\"Player Wins!\")\n",
    "        Wins = Wins + 1\n",
    "    elif UserChoice == \"Rock\" and ComputerChoice == \"Paper\":\n",
    "        print(\"Computer Wins!\")\n",
    "        Losses = Losses + 1    \n",
    "    \n",
    "# After playing all the games specified by the User\n",
    "# print out final result\n",
    "\n",
    "print(\"Final Result: \")\n",
    "print(\"User Wins: \" + str(Wins))\n",
    "print(\"Draws: \" + str(Draws))\n",
    "print(\"Computer Wins: \" + str(Losses))\n"
   ]
  },
  {
   "cell_type": "markdown",
   "metadata": {},
   "source": [
    "By using flow control statements and importing the random module from Python's standard library, we have created an interactive Rock, Paper, Scissors game where the user plays against the computer. Combining different types of flow control statements allowed us to implement complicated logic flow relatively quickly and easily. \n",
    "\n",
    "The game demonstrates several important programming concepts:\n",
    "\n",
    "- Importing and using external modules (random).\n",
    "- User input and validation.\n",
    "- Conditional statements (if-elif-else).\n",
    "- Loops (for and while).\n",
    "- Score tracking with variables.\n",
    "\n",
    "If you're feeling confident, please try playing around with the logic above and see if you can add any additional functionality to the Rock, Paper, Scissors game. Remember, experimenting with and modifying existing code is an excellent way to deepen your understanding of programming concepts and improve your skills."
   ]
  }
 ],
 "metadata": {
  "kernelspec": {
   "display_name": "Python 3",
   "language": "python",
   "name": "python3"
  },
  "language_info": {
   "codemirror_mode": {
    "name": "ipython",
    "version": 3
   },
   "file_extension": ".py",
   "mimetype": "text/x-python",
   "name": "python",
   "nbconvert_exporter": "python",
   "pygments_lexer": "ipython3",
   "version": "3.6.4"
  }
 },
 "nbformat": 4,
 "nbformat_minor": 2
}
