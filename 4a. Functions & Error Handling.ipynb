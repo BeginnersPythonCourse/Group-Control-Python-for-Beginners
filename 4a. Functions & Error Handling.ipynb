{
 "cells": [
  {
   "cell_type": "markdown",
   "metadata": {},
   "source": [
    "# Lesson 4a \n",
    "# Functions & Error Handling"
   ]
  },
  {
   "cell_type": "markdown",
   "metadata": {},
   "source": [
    "Throughout the course so far, we've already encountered a few of Python's built-in functions such as ```print()```, ```input()``` and ```len()```. We've also been introduced to the language used when working with functions in programming, whether we're *calling* a function or *passing* an *argument* into a function, functions are one of the most useful aspects of programming, so in this lesson, we're going to learn how to define and use our own functions in Python. \n",
    "\n",
    "Let’s look at a code example which might be improved by using a function."
   ]
  },
  {
   "cell_type": "code",
   "execution_count": 1,
   "metadata": {},
   "outputs": [
    {
     "name": "stdout",
     "output_type": "stream",
     "text": [
      "Hello Alice it's Lovely to meet you!\n",
      "Wow I can't believe you're 25 you look so much younger!\n",
      "I hope you're having a fantastic time working for Barclays!\n",
      "\n",
      "Hello Jim it's Lovely to meet you!\n",
      "Wow I can't believe you're 35 you look so much younger!\n",
      "You are missing out on working for Barclays!\n",
      "\n",
      "Hello Harry it's Lovely to meet you!\n",
      "Wow I can't believe you're 75 you look so much younger!\n",
      "I hope you're having a fantastic time working for Barclays!\n",
      "\n"
     ]
    }
   ],
   "source": [
    "# Define Variables that Describe Person 1 (Alice).\n",
    "# Name is a string\n",
    "# Age is an Integer\n",
    "# Barclays_Employee is a Boolean.\n",
    "\n",
    "Name1 = \"Alice\"\n",
    "Age1 = 25\n",
    "Barclays_Employee1 = True\n",
    "\n",
    "# Define Variables that Describe Person 2 (Jim)\n",
    "\n",
    "Name2 = \"Jim\"\n",
    "Age2 = 35\n",
    "Barclays_Employee2 = False\n",
    "\n",
    "# Define Variables that Describe Person 3 (Harry)\n",
    "\n",
    "Name3 = \"Harry\"\n",
    "Age3 = 75\n",
    "Barclays_Employee3 = True\n",
    "\n",
    "# Write Output for User 1 \n",
    "\n",
    "# Greet Name1\n",
    "print(\"Hello \" + Name1 + \" it's Lovely to meet you!\")\n",
    "\n",
    "# This is a very complimentary program!\n",
    "print(\"Wow I can't believe you're \" + str(Age1) + \" you look so much younger!\")\n",
    "\n",
    "# Write Output based on whether the user is a Barclays Employee or not.\n",
    "if Barclays_Employee1 == True:\n",
    "    print(\"I hope you're having a fantastic time working for Barclays!\")\n",
    "else:\n",
    "    print(\"You are missing out on working for Barclays!\")\n",
    "print(\"\")\n",
    "\n",
    "# Repeat Output for User 2\n",
    "\n",
    "print(\"Hello \" + Name2 + \" it's Lovely to meet you!\")\n",
    "\n",
    "print(\"Wow I can't believe you're \" + str(Age2) + \" you look so much younger!\")\n",
    "\n",
    "if Barclays_Employee2 == True:\n",
    "    print(\"I hope you're having a fantastic time working for Barclays!\")\n",
    "else:\n",
    "    print(\"You are missing out on working for Barclays!\")\n",
    "print(\"\")\n",
    "\n",
    "# Repeat Output for User 3\n",
    "\n",
    "print(\"Hello \" + Name3 + \" it's Lovely to meet you!\")\n",
    "\n",
    "print(\"Wow I can't believe you're \" + str(Age3) + \" you look so much younger!\")\n",
    "\n",
    "if Barclays_Employee3 == True:\n",
    "    print(\"I hope you're having a fantastic time working for Barclays!\")\n",
    "else:\n",
    "    print(\"You are missing out on working for Barclays!\")\n",
    "print(\"\")"
   ]
  },
  {
   "cell_type": "markdown",
   "metadata": {},
   "source": [
    "Upon first impression, there is not a lot wrong with the code above; everything works as expected, and the output produced is accurate based on the values defined in the variables. However, even for three user inputs, the code above is starting to become repetitive and difficult to read. Furthermore, if we wanted to change the specific type of greeting we would like to give each user, we'd have to change the text in these three lines:\n",
    "\n",
    "```print(\"Hello \" + Name1 + \" it's Lovely to meet you!\")``` \n",
    "\n",
    "```print(\"Hello \" + Name2 + \" it's Lovely to meet you!\")``` \n",
    "\n",
    "```print(\"Hello \" + Name3 + \" it's Lovely to meet you!\")``` \n",
    "\n",
    "\n",
    "We'd have to ensure that the updated text in each line matched exactly and that the correct variable was placed in the correct print statement each time. Even for three repetitions of the same output, making sure that changes to the output stay consistent can be challenging and time-consuming, plus the code repetition makes the code long and unwieldy. \n",
    "\n",
    "The code below creates the same output as before but utilizes a function."
   ]
  },
  {
   "cell_type": "code",
   "execution_count": 2,
   "metadata": {},
   "outputs": [
    {
     "name": "stdout",
     "output_type": "stream",
     "text": [
      "Hello Alice it's Lovely to meet you!\n",
      "Wow I can't believe you're 25 you look so much younger!\n",
      "I hope you're having a fantastic time working for Barclays!\n",
      "\n",
      "Hello Jim it's Lovely to meet you!\n",
      "Wow I can't believe you're 35 you look so much younger!\n",
      "You are missing out on working for Barclays!\n",
      "\n",
      "Hello Harry it's Lovely to meet you!\n",
      "Wow I can't believe you're 75 you look so much younger!\n",
      "I hope you're having a fantastic time working for Barclays!\n",
      "\n"
     ]
    }
   ],
   "source": [
    "def Greet_User(Name, Age, Barclays_Employee):\n",
    "    \n",
    "    print(\"Hello \" + Name + \" it's Lovely to meet you!\")\n",
    "\n",
    "    print(\"Wow I can't believe you're \" + str(Age) + \" you look so much younger!\")\n",
    "\n",
    "    if Barclays_Employee == True:\n",
    "        print(\"I hope you're having a fantastic time working for Barclays!\")\n",
    "    else:\n",
    "        print(\"You are missing out on working for Barclays!\")\n",
    "    print(\"\")\n",
    "        \n",
    "Greet_User(\"Alice\", 25, True)\n",
    "Greet_User(\"Jim\", 35, False)\n",
    "Greet_User(\"Harry\", 75, True)"
   ]
  },
  {
   "cell_type": "markdown",
   "metadata": {},
   "source": [
    "- In the example above, we have defined a function called ```Greet_User```. A new function is initiated by using the ```def``` keyword. \n",
    "- Similar to variable names, function names cannot contain spaces, are case-sensitive, and must start with either a letter or an underscore.\n",
    "- The brackets after the function name contain the *arguments* which are passed into the function. These are the values that can be changed to influence the value(s) outputted by the function. In the example above, when calling the function we need to provide a name, age and a Boolean value indicating if the person is a Barclays Employee or not. Depending on the values that we input into the function, we receive a greeting including the name and age of the input, and depending on whether the input Boolean value is ```True``` or ```False```, we get a different output message. \n",
    "- To *call* the newly-created function, we need to type the function name and place the values we would like to enter into the function in brackets, in the order that they are defined in the function definition. \n",
    "- If we wanted to call the ```Greet_User``` function again but for someone called \"Sally\", who's 40 years old and doesn't work for Barclays we could write the following:\n",
    "```\n",
    "Greet_User(\"Sally\", 40, False)\n",
    "```\n",
    "\n",
    "This is one of the main benefits of function calling, as it makes running similar chunks of code quick, easy, and readable. For example, if we wanted to greet another 10 people with the same output, using the function defined above, this is only 10 additional lines of code, whereas in the initial example, this would be over 50 additional lines!\n",
    "\n",
    "Furthermore, functions are great as they make updating code logic quicker and easier. If we wanted to change a single line of output in the ```Greet_User``` function, we would only need to alter a single line of code in the block of code contained in the function and the change would automatically be implemented every time the function is called. If we wanted to replicate the same change in the original code, we would have to make the same output change as many times in the code as there are outputs that we've manually defined. For example, if we wanted the first ```print()``` statement to say \n",
    "\n",
    "```print(\"Howdy, Nice to meet you \" + Name + \"!\")``` instead of ```    print(\"Hello \" + Name + \" it's Lovely to meet you!\")```\n",
    "\n",
    "we only have to change a single line in the ```Greet_User()``` function but in the original script we have to change three lines (and make sure the variable names match up accurately for each line of output).\n",
    "\n",
    "## Default Arguments\n",
    "\n",
    "It is also possible when defining functions to introduce an argument in the function definition that already has a value inputted which, unless the argument is overwritten when the function is called, will automatically take the default argument given. This allows extra flexibility when defining functions, especially when the functionality needed is often the same and only occasionally needs to change. Adding a default argument into a function definition is simple: include the default argument in the function parenthesis and use the assignment operator to set the default value.\n",
    "\n",
    "For example, if we would like to update the ```Greet_User``` function to always be a friendly greeting unless otherwise specified, we can change the function definition to:\n",
    "\n",
    "```\n",
    "Greet_User(Name, Age, Barclays_Employee, GreetingType = 'Friendly')\n",
    "```"
   ]
  },
  {
   "cell_type": "code",
   "execution_count": 3,
   "metadata": {},
   "outputs": [
    {
     "name": "stdout",
     "output_type": "stream",
     "text": [
      "Hello Alice it's Lovely to meet you!\n",
      "Wow I can't believe you're 25 you look so much younger!\n",
      "I hope you're having a fantastic time working for Barclays! \n",
      "\n",
      "Hello Jim it's Lovely to meet you!\n",
      "Wow I can't believe you're 35 you look so much younger!\n",
      "You are missing out on working for Barclays! \n",
      "\n",
      "Hello Harry it's NOT very nice to see you!\n",
      "Wow I can't believe you're 35 you look so much older!\n",
      "I hope you're having a terrible time working for Barclays!\n"
     ]
    }
   ],
   "source": [
    "def Greet_User(Name, Age, Barclays_Employee, GreetingType = 'Friendly'):\n",
    "    \n",
    "    if GreetingType == \"Friendly\": \n",
    "        print(\"Hello \" + Name + \" it's Lovely to meet you!\")\n",
    "\n",
    "        print(\"Wow I can't believe you're \" + str(Age) + \" you look so much younger!\")\n",
    "\n",
    "        if Barclays_Employee == True:\n",
    "            print(\"I hope you're having a fantastic time working for Barclays! \\n\")\n",
    "        else:\n",
    "            print(\"You are missing out on working for Barclays! \\n\")\n",
    "    \n",
    "    elif GreetingType == \"Angry\":\n",
    "        \n",
    "        print(\"Hello \" + Name + \" it's NOT very nice to see you!\")\n",
    "        \n",
    "        print(\"Wow I can't believe you're \" + str(Age) + \" you look so much older!\")\n",
    "\n",
    "        if Barclays_Employee == True:\n",
    "            print(\"I hope you're having a terrible time working for Barclays!\")\n",
    "        else:\n",
    "            print(\"I'm so glad you don't work for Barclays! \\n\")\n",
    "    else:\n",
    "        print(\"Please Enter a Greeting Type of 'Friendly' or 'Angry\")\n",
    "        \n",
    "Greet_User(\"Alice\", 25, True, GreetingType = \"Friendly\")\n",
    "\n",
    "Greet_User(\"Jim\", 35, False)\n",
    "\n",
    "Greet_User(\"Harry\", 35, True, GreetingType = \"Angry\")"
   ]
  },
  {
   "cell_type": "markdown",
   "metadata": {},
   "source": [
    "As we would expect the usual greeting to be friendly, we have set the default argument as ```GreetingType = 'Friendly'```, which means that we don't need to specify that the greeting is friendly when we're calling the function. ```GreetingType = 'Friendly'``` is automatically passed into the function unless we specifically specify a different ```GreetingType```. When on the rare occasion we'd like to change it to an angry greeting, we must specify ```GreetingType = \"Angry\"``` when calling the function."
   ]
  },
  {
   "cell_type": "markdown",
   "metadata": {},
   "source": [
    "## Return Statements\n",
    "\n",
    "The functions above use a combination of if-else statements and ```print()``` functions to print out greeting statements based on the function inputs. However, there are plenty of instances where we would like a function to output a specific value based on the function definition and the function arguments. A ```return``` statement simply consists of:\n",
    "\n",
    "- The ```return``` keyword.\n",
    "- The value that the function should return.\n",
    "\n",
    "Once Python has reached a ```return``` statement in the execution of a function, it will exit the function immediately and return the value specified in the ```return``` statement."
   ]
  },
  {
   "cell_type": "code",
   "execution_count": 4,
   "metadata": {},
   "outputs": [
    {
     "name": "stdout",
     "output_type": "stream",
     "text": [
      "Please Enter an Integer : 20\n",
      "Please Enter a Second Integer : 15\n",
      "Please Enter a Mathematical Operation (One of '+', '-', '*', '/'): -\n",
      "The Result of that Mathematical Equation is: 5\n"
     ]
    }
   ],
   "source": [
    "# Define a function that takes in two integers and a mathematical operator (default mathematical operator is '+').\n",
    "# This function uses an if-elif-else statement to return a mathematical output based on the mathematical operator passed into\n",
    "# the function\n",
    "\n",
    "def Multi_Maths(Num1, Num2, operator = '+'):\n",
    "    if operator == '+':\n",
    "        return Num1 + Num2\n",
    "    elif operator == '-':\n",
    "        return Num1 - Num2\n",
    "    elif operator == '*':\n",
    "        return Num1 * Num2\n",
    "    elif operator == '/':\n",
    "        return Num1 / Num2\n",
    "    else:\n",
    "        return \"Please Enter one of the Following Mathematical Operators: '+', '-', '*', '/'\"\n",
    "\n",
    "# Ask user to input two numbers\n",
    "# Make sure to wrap input in int() to convert the string inputted \n",
    "# by the user into an integer value to do mathematical operations on\n",
    "\n",
    "inputNumber1 = int(input(\"Please Enter an Integer : \"))\n",
    "inputNumber2 = int(input(\"Please Enter a Second Integer : \"))\n",
    "\n",
    "# Ask User to input one of 4 mathematical operations.\n",
    "inputOperator = input(\"Please Enter a Mathematical Operation (One of '+', '-', '*', '/'): \")\n",
    "\n",
    "# Pass the user inputted values into the Multi_Maths function and store the output in the Maths_Result variable\n",
    "Maths_Result = Multi_Maths(inputNumber1, inputNumber2, operator = inputOperator)\n",
    "\n",
    "# Print final result\n",
    "print(\"The Result of that Mathematical Equation is: \" + str(Maths_Result))"
   ]
  },
  {
   "cell_type": "markdown",
   "metadata": {},
   "source": [
    "## Exception Handling\n",
    "\n",
    "Up until now, getting an error, or an exception, in your Python code means the entire program will stop running immediately. Ideally, this shouldn't happen in real-world programs. Instead, we want to write our program in a way that can detect errors, handle them and then continue to run. \n",
    "\n",
    "Errors can be handled with ```try``` and ```except``` statements. The code that we suspect might cause an error is put into the ```try``` clause. If the code in the ```try``` block causes an error that would usually stop the program, the execution instead moves to the start of the following ```except``` block. Every ```try``` block must be paired with an ```except``` block which tells Python what to do if the code in the ```try``` block fails.\n",
    "\n",
    "What would happen if we passed the following parameters into the ```Multi_Maths``` function defined above?\n",
    "```\n",
    "Multi_Maths(100, 0, '/')\n",
    "```\n",
    "We would receive the following error:\n",
    "```\n",
    "ZeroDivisionError: division by zero\n",
    "```\n",
    "As it is mathematically impossible to divide by 0, Python throws an error and the program immediately stops running. To modify the ```Multi_Maths``` function to handle a possible ```ZeroDivisionError```, we could add the following:"
   ]
  },
  {
   "cell_type": "code",
   "execution_count": 6,
   "metadata": {},
   "outputs": [
    {
     "name": "stdout",
     "output_type": "stream",
     "text": [
      "Error: Invalid argument. Cannot Divide by 0.\n",
      "20.0\n"
     ]
    }
   ],
   "source": [
    "def Multi_Maths(Num1, Num2, operator = '+'):\n",
    "    if operator == '+':\n",
    "        return Num1 + Num2\n",
    "    elif operator == '-':\n",
    "        return Num1 - Num2\n",
    "    elif operator == '*':\n",
    "        return Num1 * Num2\n",
    "    elif operator == '/':\n",
    "        # Add a try block to try dividing Num1 & Num2\n",
    "        try:\n",
    "            return Num1 / Num2\n",
    "        # Add an Except Block that catches any errors and if an error occurs \n",
    "        # will start running from the start of the except block.\n",
    "        except:\n",
    "            # print informative statement if error is caused by dividing by 0.\n",
    "            if Num2 == 0:\n",
    "                return \"Error: Invalid argument. Cannot Divide by 0.\"\n",
    "            else:\n",
    "                return \"Error: Invalid Division argument.\"\n",
    "\n",
    "    else:\n",
    "        return \"Please Enter one of the Following Mathematical Operators: '+', '-', '*', '/'\"\n",
    "\n",
    "# try dividing by 0.\n",
    "\n",
    "print(Multi_Maths(100, 0, '/'))\n",
    "\n",
    "# As we anticipated the divide by 0 error, our Program will continue to execute after it has handled the error.\n",
    "\n",
    "print(Multi_Maths(200, 10, '/'))"
   ]
  },
  {
   "cell_type": "markdown",
   "metadata": {},
   "source": [
    "As you can see, now we can deal with inputs which would have previously broken the code and completely stopped the execution of the program. We can anticipate potential errors and allow our program to keep executing. We can also apply alternative logic if it encounters these expected problems. We can also print out informative statements to let the user know what errors have occurred, and how to avoid them in the future."
   ]
  }
 ],
 "metadata": {
  "kernelspec": {
   "display_name": "Python 3",
   "language": "python",
   "name": "python3"
  },
  "language_info": {
   "codemirror_mode": {
    "name": "ipython",
    "version": 3
   },
   "file_extension": ".py",
   "mimetype": "text/x-python",
   "name": "python",
   "nbconvert_exporter": "python",
   "pygments_lexer": "ipython3",
   "version": "3.6.4"
  }
 },
 "nbformat": 4,
 "nbformat_minor": 2
}
