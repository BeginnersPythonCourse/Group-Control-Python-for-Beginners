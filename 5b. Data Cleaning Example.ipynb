{
 "cells": [
  {
   "cell_type": "markdown",
   "metadata": {},
   "source": [
    "# Lesson 5b. \n",
    "# Data Cleaning Example\n",
    "\n",
    "To conclude our series of lessons, we wanted to leave you with the ability to program something which could potentially be applied in many BAU processes, hopefully saving time and improving accuracy."
   ]
  },
  {
   "cell_type": "markdown",
   "metadata": {},
   "source": [
    "For this task, we have been presented with a sample dataset containing information from 10 colleagues, including their Titles, Email Addresses, and Office Locations. We have been instructed to send a letter addressed with the full title to any colleague based in the UK. Based on the information provided, we must identify a list of full titles from colleagues who have an office in the UK and then output a list of full titles to send letters to.\n",
    "\n",
    "Here is a screenshot of the data that we have been provided with (we've been given the data in a text file):\n",
    "\n",
    "![InputData.txt](images/InputDataScreenshot.PNG)\n",
    "\n",
    "\n",
    "## Reading in Text Files\n",
    "\n",
    "Creating programs that interact with files on our computers is very useful as it allows us to automate repetitive data cleaning and transformation tasks quickly and easily. To read in the text file we've been provided with, we can use Python's built-in open() function.\n",
    "\n",
    "To open a text file with ```open()```, we have to pass the name of the text file into the parentheses of the function. In this instance, as the file is called ```InputData.txt```, we define the ```InputData``` object to be ```open('InputData.txt')```.\n",
    "\n",
    "It's important to note at this point that any filename you place into a Python program is relative to the location where the Python file is running. The location where a file is running is called the working directory. As you continue with Python, you will learn about absolute and relative filepaths and how to access files in different folder locations from your Python script. However, for now, since the ```'InputData.txt'``` file is in our working directory, we can simply pass ```'InputData.txt'``` into the ```open()``` function, and Python will read the file."
   ]
  },
  {
   "cell_type": "code",
   "execution_count": 1,
   "metadata": {
    "scrolled": false
   },
   "outputs": [
    {
     "name": "stdout",
     "output_type": "stream",
     "text": [
      "Title,EmailAddress,OfficeLocation\n",
      "Mr,john.smith@barclays.com,Glasgow\n",
      "Mrs,jane.doe@barclays.com,Northampton\n",
      "Miss,kim.small@barclays.com,London\n",
      "Dr,thomas.trinder@barclays.com,Pune\n",
      "Mr,jack.armitage@barclays.com,Whippany\n",
      "Mrs,shona.mackenzie@barclays.com,London\n",
      "Mrs,alison.smith@barclays.com,Whippany\n",
      "Mr,alexander.garden@barclays.com,Glasgow\n",
      "Dr,calum.avenue@barclays.com,Glasgow\n",
      "Miss,jessie.jones@barclays.com,Pune\n",
      "\n"
     ]
    }
   ],
   "source": [
    "# Read and Store the Data in the variable InputDataFile\n",
    "InputDataFile =  open('InputData.txt')\n",
    "\n",
    "# To extract the data from the file, use the method .read() on the file.\n",
    "InputData = InputDataFile.read()\n",
    "\n",
    "# We now have the content of the file in our Python Program\n",
    "# Currently InputData is just one block of text stored as a single string.\n",
    "\n",
    "print(InputData)\n",
    "\n",
    "# While not necessary for the code to run, it's generally good practice to close a file\n",
    "# (using the method below) when we have finished consuming its contents\n",
    "InputDataFile.close()\n",
    "print()"
   ]
  },
  {
   "cell_type": "markdown",
   "metadata": {},
   "source": [
    "## Converting Between Strings and Lists\n",
    "\n",
    "In many data cleaning and transformation processes, it can be very useful to convert between strings and lists, and vice versa.\n",
    "\n",
    "To convert from a string to a list, we use the method ```string.split('delimiter')```, where the 'delimiter' is the character or substring that will be used to separate the string into items in a list."
   ]
  },
  {
   "cell_type": "code",
   "execution_count": 11,
   "metadata": {},
   "outputs": [
    {
     "name": "stdout",
     "output_type": "stream",
     "text": [
      "['Title', 'EmailAddress', 'OfficeLocation']\n",
      "['Title,Em', 'ilAddress,OfficeLoc', 'tion']\n",
      "['Title,EmailAddress,OfficeLocation']\n"
     ]
    }
   ],
   "source": [
    "# for example, if we were to take the first line of our output above and store it in a list called columns, \n",
    "# we can split the single string into a list with three items by using split with a ',' delimiter (which splits the string)\n",
    "\n",
    "ColumnString = \"Title,EmailAddress,OfficeLocation\"\n",
    "ColumnList = ColumnString.split(',')\n",
    "print(ColumnList)\n",
    "\n",
    "# We can split on another arbitrary delimiting value, lets try 'a'\n",
    "ColumnString = \"Title,EmailAddress,OfficeLocation\"\n",
    "ColumnList = ColumnString.split('a')\n",
    "print(ColumnList)\n",
    "# note that the splitting value is not included in the output string.\n",
    "\n",
    "# If we try splitting on a value that isn't in the original string, \n",
    "# we receive a list with a single value which is the original string\n",
    "ColumnString = \"Title,EmailAddress,OfficeLocation\"\n",
    "ColumnList = ColumnString.split('AAAA')\n",
    "print(ColumnList)"
   ]
  },
  {
   "cell_type": "markdown",
   "metadata": {},
   "source": [
    "To convert from a list to a string, we use the method 'delimiter'.join(list), where the 'delimiter' is the string value that will be placed between the individual items in the list to create a single string."
   ]
  },
  {
   "cell_type": "code",
   "execution_count": 12,
   "metadata": {},
   "outputs": [
    {
     "name": "stdout",
     "output_type": "stream",
     "text": [
      "Title, EmailAddress, OfficeLocation\n"
     ]
    }
   ],
   "source": [
    "# This time lets start with the Column Values in a list ColumnList\n",
    "# we can use any string value to join the items of the list together\n",
    "ColumnList = ['Title', 'EmailAddress', 'OfficeLocation']\n",
    "ColumnString = ', '.join(ColumnList)\n",
    "print(ColumnString)"
   ]
  },
  {
   "cell_type": "markdown",
   "metadata": {},
   "source": [
    "Converting between strings and lists using ```.split()``` and ```.join()``` is extremely useful for data cleaning processes. These methods allow us to break up strings with similar structures into manageable list elements. This offers significant control over editing or removing individual parts of the original string. We can also easily add new elements into the list. Finally, we can rejoin the modified list to produce an edited version of the original string.\n",
    "\n",
    "Now let's revisit our example. The ```.read()``` method has provided us with the entire text content from ```'InputData.txt'```. Our next step is to break this data into individual rows for processing. While not visibly apparent, these rows are separated by a special Python character known as the newline character, represented as ```\\n``` in strings. When Python encounters ```\\n``` in a string, it doesn't display it directly; instead, it starts a new line for the following text."
   ]
  },
  {
   "cell_type": "code",
   "execution_count": 4,
   "metadata": {},
   "outputs": [
    {
     "name": "stdout",
     "output_type": "stream",
     "text": [
      "FirstLine\n",
      "SecondLine\n",
      "ThirdLine\n",
      "FourthLine\n"
     ]
    }
   ],
   "source": [
    "print(\"FirstLine\\nSecondLine\\nThirdLine\\nFourthLine\")"
   ]
  },
  {
   "cell_type": "code",
   "execution_count": 1,
   "metadata": {},
   "outputs": [
    {
     "name": "stdout",
     "output_type": "stream",
     "text": [
      "Title,EmailAddress,OfficeLocation\n",
      "Mr,john.smith@barclays.com,Glasgow\n",
      "Mrs,jane.doe@barclays.com,Northampton\n",
      "Miss,kim.small@barclays.com,London\n",
      "Dr,thomas.trinder@barclays.com,Pune\n",
      "Mr,jack.armitage@barclays.com,Whippany\n",
      "Mrs,shona.mackenzie@barclays.com,London\n",
      "Mrs,alison.smith@barclays.com,Whippany\n",
      "Mr,alexander.garden@barclays.com,Glasgow\n",
      "Dr,calum.avenue@barclays.com,Glasgow\n",
      "Miss,jessie.jones@barclays.com,Pune\n",
      "\n",
      "['Title,EmailAddress,OfficeLocation', 'Mr,john.smith@barclays.com,Glasgow', 'Mrs,jane.doe@barclays.com,Northampton', 'Miss,kim.small@barclays.com,London', 'Dr,thomas.trinder@barclays.com,Pune', 'Mr,jack.armitage@barclays.com,Whippany', 'Mrs,shona.mackenzie@barclays.com,London', 'Mrs,alison.smith@barclays.com,Whippany', 'Mr,alexander.garden@barclays.com,Glasgow', 'Dr,calum.avenue@barclays.com,Glasgow', 'Miss,jessie.jones@barclays.com,Pune']\n"
     ]
    }
   ],
   "source": [
    "# Therefore we can try splitting the text input on the '\\n' newline character.\n",
    "\n",
    "# Read and Store the Data in the variable InputDataFile\n",
    "InputDataFile =  open('InputData.txt')\n",
    "\n",
    "# To extract the data from the file, use the method .read() on the file.\n",
    "# Currently InputData is just one block of text stored as a single string.\n",
    "\n",
    "InputData = InputDataFile.read()\n",
    "print(InputData)\n",
    "\n",
    "# While not necessary for the code to run, it's generally good practice to close a file\n",
    "# (using the method below) when we have finished consuming its contents\n",
    "InputDataFile.close()\n",
    "print()\n",
    "\n",
    "# Split the large string block into indvidual elements in a list using InputData.split('\\n')\n",
    "InputDataRows = InputData.split('\\n')\n",
    "print(InputDataRows)"
   ]
  },
  {
   "cell_type": "markdown",
   "metadata": {},
   "source": [
    "```InputDataRows``` is now a list containing a string for each individual row in the text file. We can now use indexes to access and process each row of the text file individually. Apart from the column titles, each of the rows in the text file has the same structure. Let's focus on a single row.\n",
    "\n",
    "What do we need to extract from each row to answer our questions: the full title and if they are based in the UK?\n",
    "\n",
    "- We can extract the full title by adding the title to the extracted first and last names from the email addresses.\n",
    "- We can use the OfficeLocation field to identify if they are UK-based by defining which offices are in the UK."
   ]
  },
  {
   "cell_type": "code",
   "execution_count": 14,
   "metadata": {},
   "outputs": [
    {
     "name": "stdout",
     "output_type": "stream",
     "text": [
      "['Mr', 'john.smith@barclays.com', 'Glasgow']\n",
      "Mr\n",
      "john.smith@barclays.com\n",
      "Glasgow\n"
     ]
    }
   ],
   "source": [
    "# Lets take 'Mr,john.smith@barclays.com,Glasgow'\n",
    "RowExample = 'Mr,john.smith@barclays.com,Glasgow'\n",
    "\n",
    "# Firstly we need to use split again with ',' to split this string into a list with three elements.\n",
    "RowSplit = RowExample.split(',')\n",
    "print(RowSplit)\n",
    "\n",
    "# We can assign variables to each value in the list using their indexes\n",
    "RowTitle = RowSplit[0]\n",
    "RowEmail = RowSplit[1]\n",
    "RowOffice = RowSplit[2]\n",
    "\n",
    "print(RowTitle)\n",
    "print(RowEmail)\n",
    "print(RowOffice)"
   ]
  },
  {
   "cell_type": "markdown",
   "metadata": {},
   "source": [
    "We now have the individual data for each row stored in variables; this provides us with all the information needed to derive the full title and determine whether the colleague is UK-based."
   ]
  },
  {
   "cell_type": "code",
   "execution_count": 15,
   "metadata": {},
   "outputs": [
    {
     "name": "stdout",
     "output_type": "stream",
     "text": [
      "['john.smith', 'barclays.com']\n",
      "john.smith\n",
      "john\n",
      "smith\n",
      "Mr. John Smith\n"
     ]
    }
   ],
   "source": [
    "# The trickiest part is going to be how do we extract the first and second name from the email? \n",
    "# Once again we can use .split (twice)!\n",
    "\n",
    "# We don't need any data after the '@' symbol,\n",
    "# we can split the email address string on the '@' and only store the first item in the list created as a variable\n",
    "\n",
    "RowEmail = 'john.smith@barclays.com'\n",
    "RowEmailSplit = RowEmail.split('@')\n",
    "\n",
    "# This outputs a list of the string before the '@' and after. \n",
    "print(RowEmailSplit)\n",
    "\n",
    "# By taking the first item in the list (using index 0), we get the full name.\n",
    "RowFullName = RowEmailSplit[0]\n",
    "print(RowFullName)\n",
    "\n",
    "# Finally, we can split the FullName on the FullStop and \n",
    "# assign the first name to be the first item in list and last name to be the second.\n",
    "\n",
    "RowFullNameSplit = RowFullName.split('.')\n",
    "RowFirstName = RowFullNameSplit[0]\n",
    "RowLastName = RowFullNameSplit[1]\n",
    "\n",
    "print(RowFirstName)\n",
    "print(RowLastName)\n",
    "\n",
    "# Finally, lets create the final output, using the Row Title as well\n",
    "# We will also convert RowFirstName & RowLastName to be capitalized using the .title() method on strings\n",
    "\n",
    "RowName = RowTitle + '. ' + RowFirstName.title() + ' ' + RowLastName.title()\n",
    "print(RowName)"
   ]
  },
  {
   "cell_type": "code",
   "execution_count": 16,
   "metadata": {},
   "outputs": [
    {
     "name": "stdout",
     "output_type": "stream",
     "text": [
      "True\n"
     ]
    }
   ],
   "source": [
    "# To find if Mr. John Smith is UK Based on not we can use an if - else statement.\n",
    "# Define list of UK Offices\n",
    "\n",
    "UKOffices = ['Glasgow', 'London', 'Northampton']\n",
    "\n",
    "# Initialize Boolean variable that will be updated if Row is UK Based.\n",
    "RowUKBased = False\n",
    "\n",
    "# Iterate through list of UKOffices\n",
    "for office in UKOffices:\n",
    "    # If the RowOffice equals the office in the UK list \n",
    "    if RowOffice == office:\n",
    "        RowUKBased = True\n",
    "        \n",
    "print(RowUKBased)"
   ]
  },
  {
   "cell_type": "markdown",
   "metadata": {},
   "source": [
    "We now have all the logic built to identify if each row is UK-based, and to output the row's full name & title. Let's convert this logic into functions and create the final output."
   ]
  },
  {
   "cell_type": "code",
   "execution_count": 2,
   "metadata": {},
   "outputs": [
    {
     "name": "stdout",
     "output_type": "stream",
     "text": [
      "List of Full Names & Titles for UK Based Colleagues:\n",
      "Mr. John Smith\n",
      "Mrs. Jane Doe\n",
      "Miss. Kim Small\n",
      "Mrs. Shona Mackenzie\n",
      "Mr. Alexander Garden\n",
      "Dr. Calum Avenue\n"
     ]
    }
   ],
   "source": [
    "# Create a function called Name_and_Title which takes the RowTitle and RowEmail\n",
    "# and will return the Rows FullName and Title\n",
    "\n",
    "def Name_and_Title(RowTitle, RowEmail):\n",
    "    \n",
    "    # Split the RowEmail and Save the string before the '@' in RowFullName\n",
    "    RowEmailSplit = RowEmail.split('@')\n",
    "    RowFullName = RowEmailSplit[0]\n",
    "    \n",
    "    # Split the RowFullName on '.' to get the RowFirstName & RowSecondName\n",
    "    RowFullNameSplit = RowFullName.split('.')\n",
    "    RowFirstName = RowFullNameSplit[0]\n",
    "    RowLastName = RowFullNameSplit[1]\n",
    "    \n",
    "    # Return Full Output by combining Row Title, RowFirstName & RowSecondName\n",
    "    return RowTitle + '. ' + RowFirstName.title() + ' ' + RowLastName.title()\n",
    "\n",
    "# Create function which will take the RowOffice as an argument and output a Boolean value indicating if Row is UK Based\n",
    "def UK_Based(RowOffice):\n",
    "    \n",
    "    UKOffices = ['Glasgow', 'London', 'Northampton']\n",
    "\n",
    "    # Initalise Boolean variable that will be updated if Row is UK Based.\n",
    "    RowUKBased = False\n",
    "\n",
    "    # Iterate through list of UKOffices\n",
    "    for office in UKOffices:\n",
    "        # If the RowOffice equals the office in the UK list \n",
    "        if RowOffice == office:\n",
    "            RowUKBased = True\n",
    "    \n",
    "    # Output Booleans\n",
    "    return RowUKBased\n",
    "\n",
    "# Read and Store the Data in the variable InputDataFile\n",
    "InputDataFile =  open('InputData.txt')\n",
    "\n",
    "# To extract the data from the file, use the method .read() on the file.\n",
    "# Currently InputData is just one block of text stored as a single string.\n",
    "InputData = InputDataFile.read()\n",
    "\n",
    "# While not necessary for the code to run, it's generally good practice to close a file\n",
    "# (using the method below) when we have finished consuming its contents\n",
    "InputDataFile.close()\n",
    "\n",
    "# Split the large string block into indvidual elements in a list using InputData.split('\\n')\n",
    "InputDataRows = InputData.split('\\n')\n",
    "\n",
    "# Create a blank list to capture the information of UK Based Colleagues (our output)\n",
    "UKBasedFullNames = []\n",
    "\n",
    "# Iterate through every line except the first line which contains the column titles\n",
    "for Row in InputDataRows[1:]:\n",
    "    \n",
    "    # Split each individual Row into it's individual elements by using split(',')\n",
    "    RowSplit = Row.split(',')\n",
    "    \n",
    "    # We can assign variables to each value in the list using their indexes\n",
    "    RowTitle = RowSplit[0]\n",
    "    RowEmail = RowSplit[1]\n",
    "    RowOffice = RowSplit[2]\n",
    "    \n",
    "    # Pass the values from each row into the RowNameTitle & RowUKBased\n",
    "    RowNameTitle = Name_and_Title(RowTitle, RowEmail)\n",
    "    RowUKBased = UK_Based(RowOffice)\n",
    "    \n",
    "    # If the Row is UK Based add the RowNameTitle value to the UKBasedFullNames list\n",
    "    if RowUKBased == True:\n",
    "        UKBasedFullNames.append(RowNameTitle)\n",
    "\n",
    "# Convert UKBasedFullNames list into block of text by using '\\n'.join, which is the newline character.\n",
    "Final_Output = '\\n'.join(UKBasedFullNames)        \n",
    "\n",
    "print('List of Full Names & Titles for UK Based Colleagues:')\n",
    "print(Final_Output)"
   ]
  },
  {
   "cell_type": "markdown",
   "metadata": {},
   "source": [
    "To summarise, in this example we have taken a raw text file, processed its input, and produced a transformed output by cleaning and combining fields. While this demonstration uses a small-scale example, the same code and logic could be applied to process text files containing thousands or even millions of rows. This scalability highlights the power and efficiency of using Python in real-world data processing scenarios."
   ]
  },
  {
   "cell_type": "markdown",
   "metadata": {},
   "source": [
    "# Thanks!\n",
    "\n",
    "Thank you very much for completing the Group Control Python Training course. We really appreciate your time and effort! We hope you have gained insight into Python's benefits for data processing and analysis, and that we've provided a solid foundation for your continued learning.\n",
    "\n",
    "Congratulations on completing the course! Best of luck in the rest of your Python journey!"
   ]
  }
 ],
 "metadata": {
  "kernelspec": {
   "display_name": "Python 3",
   "language": "python",
   "name": "python3"
  },
  "language_info": {
   "codemirror_mode": {
    "name": "ipython",
    "version": 3
   },
   "file_extension": ".py",
   "mimetype": "text/x-python",
   "name": "python",
   "nbconvert_exporter": "python",
   "pygments_lexer": "ipython3",
   "version": "3.6.4"
  }
 },
 "nbformat": 4,
 "nbformat_minor": 2
}
