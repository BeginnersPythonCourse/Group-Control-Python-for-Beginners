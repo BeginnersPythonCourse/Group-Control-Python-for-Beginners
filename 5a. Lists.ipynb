{
 "cells": [
  {
   "cell_type": "markdown",
   "metadata": {},
   "source": [
    "# Lesson 5a. \n",
    "# Lists"
   ]
  },
  {
   "cell_type": "markdown",
   "metadata": {},
   "source": [
    "We have been working with individual data types like integers, strings, Booleans and floats for a few weeks, but now it's time to introduce *data structures* which act as containers for other types of values in Python. \n",
    "\n",
    "The most widely utilised and versatile data structure is a *list* which contains multiple values in an *ordered* sequence. Lists are defined by *square brackets* and each individual element in a list is separated by a comma. Lists are the basic *ordered* and *mutable* (mutable is a type of data structure in which data contained in the structure can be changed) data collection type in Python.\n",
    "\n",
    "Lists can contain any combination of data types or structures; it's perfectly reasonable to place numerical, string, or Boolean data types in them. The start and end of a list are distinguished by opening and closing square brackets, which is what distinguishes it from other data structures in Python."
   ]
  },
  {
   "cell_type": "code",
   "execution_count": 5,
   "metadata": {},
   "outputs": [
    {
     "data": {
      "text/plain": [
       "list"
      ]
     },
     "execution_count": 5,
     "metadata": {},
     "output_type": "execute_result"
    }
   ],
   "source": [
    "# There are all examples of lists.\n",
    "\n",
    "L1 = [50, 86, 3, 100, 987, 65]\n",
    "L2 = ['I', 'LOVE', 'Python']\n",
    "L3 = [True, True, False, True, False]\n",
    "L4 = [50, 86, 'Python', True, 23.05]\n",
    "\n",
    "# we can use the built-in python function type() to show that these variables are all lists\n",
    "type(L1)"
   ]
  },
  {
   "cell_type": "markdown",
   "metadata": {},
   "source": [
    "The key benefits of lists are that they are very flexible (they can contain any combination of data types and structures) and they are *ordered*: this means that we can access the individual items stored in a list quickly and accurately.\n",
    "\n",
    "Say we have a list of some of the Barclays office locations stored in a list called ```offices```:\n",
    "```\n",
    "offices = ['Glasgow', 'Pune', 'Whippany', 'London']\n",
    "```\n",
    "Lists are great as they allow us to collect similar items together instead of creating individual variables for each individual item. Having one list which we can update and change is much more convenient as we can add and remove the items in the list and apply the same logic to each item without having to duplicate much code.\n",
    "\n",
    "The list above is a lot neater and easier to interact with than multiple variables without a data structure. If we wanted to apply the same logic to every item below, we would have to write out the same code 4 times. If we were to add or delete items to our list, this would also require us to add or delete logic to cater for the changes in the collection of office variables.\n",
    "\n",
    "```\n",
    "office1 = 'Glasgow' \n",
    "office2 = 'Pune'\n",
    "office3 = 'Whippany'\n",
    "office4 = 'London'\n",
    "```\n",
    "\n",
    "## Indexing\n",
    "\n",
    "How would we access an element of the list, say Glasgow for example? We can use what is called the list's *index*, which is the list name followed by an integer corresponding to the order of the item in the list. It's important to note that Python uses *zero-based* indexing, which means that the counting of the elements in a list starts from 0, so ```offices[0]``` will correspond to ```'Glasgow'``` in this case. The last index is always the number of items in the list minus 1, as we are starting to count from 0. \n",
    "\n",
    "Zero-based indexing is bound to catch all programmers out at some point, as we naturally tend to start counting from 1; don't worry at all, it will become second-nature over time."
   ]
  },
  {
   "cell_type": "code",
   "execution_count": 6,
   "metadata": {},
   "outputs": [
    {
     "name": "stdout",
     "output_type": "stream",
     "text": [
      "Glasgow\n",
      "Pune\n",
      "Whippany\n",
      "London\n"
     ]
    },
    {
     "ename": "IndexError",
     "evalue": "list index out of range",
     "output_type": "error",
     "traceback": [
      "\u001b[1;31m---------------------------------------------------------------------------\u001b[0m",
      "\u001b[1;31mIndexError\u001b[0m                                Traceback (most recent call last)",
      "\u001b[1;32m<ipython-input-6-d86ecc4835ae>\u001b[0m in \u001b[0;36m<module>\u001b[1;34m()\u001b[0m\n\u001b[0;32m     11\u001b[0m \u001b[1;31m# (even though there are 4 items in this list, as we start counting from 0, the 4th item is out of range).\u001b[0m\u001b[1;33m\u001b[0m\u001b[1;33m\u001b[0m\u001b[0m\n\u001b[0;32m     12\u001b[0m \u001b[1;33m\u001b[0m\u001b[0m\n\u001b[1;32m---> 13\u001b[1;33m \u001b[0mprint\u001b[0m\u001b[1;33m(\u001b[0m\u001b[0moffices\u001b[0m\u001b[1;33m[\u001b[0m\u001b[1;36m4\u001b[0m\u001b[1;33m]\u001b[0m\u001b[1;33m)\u001b[0m\u001b[1;33m\u001b[0m\u001b[0m\n\u001b[0m",
      "\u001b[1;31mIndexError\u001b[0m: list index out of range"
     ]
    }
   ],
   "source": [
    "offices = ['Glasgow', 'Pune', 'Whippany', 'London']\n",
    "\n",
    "# We can access all of the four items in the list by using their corresponding indexes (remembering to count from 0).\n",
    "print(offices[0])\n",
    "print(offices[1])\n",
    "print(offices[2])\n",
    "print(offices[3])\n",
    "\n",
    "# if you try to use an index that doesn't correspond to a item in the list \n",
    "# ie. an index greater than the length of the list you will receive an error. \n",
    "# (even though there are 4 items in this list, as we start counting from 0, the 4th item is out of range).\n",
    "\n",
    "print(offices[4])"
   ]
  },
  {
   "cell_type": "markdown",
   "metadata": {},
   "source": [
    "## Slicing a List\n",
    "\n",
    "Using an index (single integer in square brackets) will return a single value from the list. If we want to return a subset of the values in the list, we can use two integers separated by a colon (still contained in square brackets), which is known as a *slice*.\n",
    "\n",
    "- ```offices[3]``` is a list with an index (one integer in square brackets) which will return one element.\n",
    "- ```offices[1:3]``` is a list with a slice (two integers separated by a colon in square brackets) which will return a list.\n",
    "\n",
    "In a slice, the first integer is the index where the slice begins, and the second integer is the index where the slice ends. A slice will go up to but not include the value of the second index."
   ]
  },
  {
   "cell_type": "code",
   "execution_count": 7,
   "metadata": {},
   "outputs": [
    {
     "name": "stdout",
     "output_type": "stream",
     "text": [
      "['Glasgow']\n",
      "['Pune', 'Whippany']\n"
     ]
    }
   ],
   "source": [
    "offices = ['Glasgow', 'Pune', 'Whippany', 'London']\n",
    "\n",
    "# We can use two integers separated by a colon to create sub-lists of the original offices list.\n",
    "# This slice starts at 0 so includes 'Glasgow' and stops at 1, it will not include the value found at the second slice.\n",
    "print(offices[0:1])\n",
    "# This slice starts at 1 so includes 'Glasgow' and stops at 3, so will go up to but not include 'London'.\n",
    "print(offices[1:3])"
   ]
  },
  {
   "cell_type": "markdown",
   "metadata": {},
   "source": [
    "### Indexing and Slicing Strings\n",
    "\n",
    "The indexing and slicing syntax we've learned can also be applied to strings to create smaller portions of text (substrings).\n",
    "\n",
    "We can think of a string like ```'Barclays!'``` as a sequence of characters, similar to a list. Each character in the string has a corresponding index, starting from 0. This allows us to access or extract specific parts of a string easily, for example:"
   ]
  },
  {
   "cell_type": "code",
   "execution_count": 7,
   "metadata": {},
   "outputs": [
    {
     "name": "stdout",
     "output_type": "stream",
     "text": [
      "B\n",
      "rcl\n"
     ]
    }
   ],
   "source": [
    "# initialise a string variable storing the string 'Barclays!'\n",
    "string = 'Barclays!'\n",
    "\n",
    "# We can now index and slice this list using the same square-bracket syntax that we use with lists!\n",
    "\n",
    "# print the first character of the string (remember that we start indexing from 0)\n",
    "print(string[0])\n",
    "\n",
    "# print the third to sixth characters of the string (remember that we start indexing from 0)\n",
    "print(string[2:5])"
   ]
  },
  {
   "cell_type": "markdown",
   "metadata": {},
   "source": [
    "## Changing Values in a List\n",
    "\n",
    "Similarly to reassigning a variable, we can reassign the value stored at a position in a list by using its index and the assignment operator (=). "
   ]
  },
  {
   "cell_type": "code",
   "execution_count": 8,
   "metadata": {},
   "outputs": [
    {
     "name": "stdout",
     "output_type": "stream",
     "text": [
      "['Glasgow', 'Pune', 'Whippany', 'London']\n",
      "['Northampton', 'Pune', 'Whippany', 'London']\n"
     ]
    }
   ],
   "source": [
    "offices = ['Glasgow', 'Pune', 'Whippany', 'London']\n",
    "\n",
    "# if we wanted to change 'Glasgow' to 'Northampton', we would need the index of 'Glasgow'.\n",
    "# as it is the first value in the list, we know it has index 0.\n",
    "# if we now use the assignment operator to assign the value to offices[0]\n",
    "# the offices[0] value will be updated from Glasgow to Northampton.\n",
    "\n",
    "# print original list\n",
    "print(offices)\n",
    "\n",
    "# assign 'Northampton' to index 0\n",
    "offices[0] = 'Northampton'\n",
    "\n",
    "# print updated list\n",
    "print(offices)"
   ]
  },
  {
   "cell_type": "markdown",
   "metadata": {},
   "source": [
    "## Using Lists with For Loops\n",
    "\n",
    "In lesson three, we used for loops to execute a block of code a pre-defined number of times using Python's built-in ```range()``` function. Previously, we've only been able to iterate through integer values, using the ```range()``` function which outputs a sequence of integers based on the parameters passed into it."
   ]
  },
  {
   "cell_type": "code",
   "execution_count": 9,
   "metadata": {},
   "outputs": [
    {
     "name": "stdout",
     "output_type": "stream",
     "text": [
      "0\n",
      "1\n",
      "2\n",
      "3\n"
     ]
    }
   ],
   "source": [
    "# This for loop will execute the following block of code \n",
    "# for each value in the range from 0 up to 4.\n",
    "\n",
    "for value in range(4):\n",
    "    print(value)"
   ]
  },
  {
   "cell_type": "markdown",
   "metadata": {},
   "source": [
    "If we want to use the ```range()``` function to access individual elements in a list, we can use it to generate a sequence of integers. These integers can then be used as indices to access each element in the list."
   ]
  },
  {
   "cell_type": "code",
   "execution_count": 10,
   "metadata": {},
   "outputs": [
    {
     "name": "stdout",
     "output_type": "stream",
     "text": [
      "Index 0 in offices is Glasgow\n",
      "Index 1 in offices is Pune\n",
      "Index 2 in offices is Whippany\n",
      "Index 3 in offices is London\n"
     ]
    }
   ],
   "source": [
    "offices = ['Glasgow', 'Pune', 'Whippany', 'London']\n",
    "\n",
    "# As we know that the offices list is 4 items long, we know that range(4) will generate a sequence of values from 0 - 3.\n",
    "# Every time the code block is executed, the value will increase by 1 starting from 0 up to 3.\n",
    "# The first time this block is executed, the value = 0 so offices[0] = 'Glasgow\n",
    "# ..\n",
    "# The final time this block is executed, the value = 3 so offices[3] = 'London'\n",
    "\n",
    "for value in range(4):\n",
    "    print(\"Index \" + str(value) + \" in offices is \" + offices[value])"
   ]
  },
  {
   "cell_type": "markdown",
   "metadata": {},
   "source": [
    "For the code above to execute without failing and to access every element in the list, we need to accurately know the number of elements in the list to pass into the ```range()``` function. If the value passed in is too small, we won't access every value in the list, if it's too big, we will cause an error as we are trying to access an element with an index greater than the length of the list. As it's not always possible to know the length of a list in advance, we can use Python's built-in ```len()``` function to determine the length of the list and pass it into the ```range()``` function."
   ]
  },
  {
   "cell_type": "code",
   "execution_count": 11,
   "metadata": {},
   "outputs": [
    {
     "name": "stdout",
     "output_type": "stream",
     "text": [
      "There are 5 total offices in the list.\n",
      "Index 0 in offices is Glasgow\n",
      "Index 1 in offices is Pune\n",
      "Index 2 in offices is Whippany\n",
      "Index 3 in offices is London\n",
      "Index 4 in offices is Northampton\n"
     ]
    }
   ],
   "source": [
    "# we can update this list to include more or less offices, and the code will now be able to \n",
    "# access every element without failing or missing values.\n",
    "\n",
    "offices = ['Glasgow', 'Pune', 'Whippany', 'London', 'Northampton']\n",
    "\n",
    "# print the length of offices\n",
    "print(\"There are \" + str(len(offices)) + \" total offices in the list.\")\n",
    "\n",
    "# instead of coding in the length of the list, we can use the len() function to pass into the range()\n",
    "# so we will always iterate through the correct number of indexes.\n",
    "\n",
    "for value in range(len(offices)):\n",
    "    print(\"Index \" + str(value) + \" in offices is \" + offices[value])"
   ]
  },
  {
   "cell_type": "markdown",
   "metadata": {},
   "source": [
    "It's also possible to iterate through the values in a list by simply passing the name of the list into the for loop. We can replace the ```range()``` function with the name of the list. If we aren't concerned with the index of each item in the list, this is the simplest way to iterate through the values in a list."
   ]
  },
  {
   "cell_type": "code",
   "execution_count": 12,
   "metadata": {},
   "outputs": [
    {
     "name": "stdout",
     "output_type": "stream",
     "text": [
      "Upper Case: GLASGOW. Lower Case: glasgow.\n",
      "Upper Case: PUNE. Lower Case: pune.\n",
      "Upper Case: WHIPPANY. Lower Case: whippany.\n",
      "Upper Case: LONDON. Lower Case: london.\n"
     ]
    }
   ],
   "source": [
    "offices = ['Glasgow', 'Pune', 'Whippany', 'London']\n",
    "\n",
    "# This for loop will iterate through all items in the list.\n",
    "for value in offices:    \n",
    "    # We can use .upper() with a string value to change the string to uppercase.\n",
    "    # Similarly, we can use .lower() with a string value to change the string to lower case.\n",
    "    \n",
    "    print(\"Upper Case: \" + value.upper() + \". Lower Case: \" + value.lower() + '.')"
   ]
  },
  {
   "cell_type": "markdown",
   "metadata": {},
   "source": [
    "## Adding & Removing Values from a List\n",
    "\n",
    "A method is similar to a function, except it is \"called on\" a specific data type or structure. The main difference between a function and a method is that a method comes after the value it operates on. In the example above, ```.upper()``` & ```.lower()``` are methods that can only be called on string values and come after the string variable name. In this section, we will be introduced to several commonly used, list-specific methods.\n",
    "\n",
    "### Append & Insert\n",
    "\n",
    "If we have already defined a list and want to add a new value called 'value' to that list, we can use ```.append('value')``` to add 'value' to the end of the list. Alternatively, we can use ```.insert(index, 'value')``` with an index value to add the value at a specific location in the list."
   ]
  },
  {
   "cell_type": "code",
   "execution_count": 14,
   "metadata": {},
   "outputs": [
    {
     "name": "stdout",
     "output_type": "stream",
     "text": [
      "['Glasgow', 'Pune', 'Whippany', 'London']\n",
      "['Glasgow', 'Pune', 'Whippany', 'London', 'Northampton']\n"
     ]
    }
   ],
   "source": [
    "offices = ['Glasgow', 'Pune', 'Whippany', 'London']\n",
    "\n",
    "# if we want to add 'Northampton' to the end of the list we can use .append('Northampton')\n",
    "\n",
    "print(offices)\n",
    "\n",
    "offices.append('Northampton')\n",
    "\n",
    "print(offices)"
   ]
  },
  {
   "cell_type": "code",
   "execution_count": 15,
   "metadata": {},
   "outputs": [
    {
     "name": "stdout",
     "output_type": "stream",
     "text": [
      "['Glasgow', 'Pune', 'Whippany', 'London']\n",
      "['Glasgow', 'Pune', 'Northampton', 'Whippany', 'London']\n"
     ]
    }
   ],
   "source": [
    "offices = ['Glasgow', 'Pune', 'Whippany', 'London']\n",
    "\n",
    "# if we want to add 'Northampton' to a specific location in the list we can use .insert(index, 'Northampton')\n",
    "# where index is the location in the list that the value will be inserted\n",
    "\n",
    "print(offices)\n",
    "\n",
    "offices.insert(2, 'Northampton')\n",
    "\n",
    "print(offices)"
   ]
  },
  {
   "cell_type": "markdown",
   "metadata": {},
   "source": [
    "### Remove\n",
    "\n",
    "If we'd like to remove a specific value from a list, we can use the ```.remove('value')``` method, where 'value' is the item we want to remove."
   ]
  },
  {
   "cell_type": "code",
   "execution_count": 16,
   "metadata": {},
   "outputs": [
    {
     "name": "stdout",
     "output_type": "stream",
     "text": [
      "['Glasgow', 'Pune', 'Whippany', 'London']\n",
      "['Pune', 'Whippany', 'London']\n"
     ]
    }
   ],
   "source": [
    "offices = ['Glasgow', 'Pune', 'Whippany', 'London']\n",
    "\n",
    "# if we want to remove 'Glasgow' from the list we can use .remove('Glasgow')\n",
    "\n",
    "print(offices)\n",
    "\n",
    "offices.remove('Glasgow')\n",
    "\n",
    "print(offices)"
   ]
  },
  {
   "cell_type": "markdown",
   "metadata": {},
   "source": [
    "## Working with Lists\n",
    "\n",
    "Lists are perfect when you have a collection of similar values to which you'd like to apply a similar logical process. For this reason, they pair well with functions, which we looked at in the previous lesson, to create simple, flexible, and powerful logical processes that we can use to automate repetitive tasks. "
   ]
  },
  {
   "cell_type": "code",
   "execution_count": 17,
   "metadata": {},
   "outputs": [
    {
     "name": "stdout",
     "output_type": "stream",
     "text": [
      "[79, 83, 89, 97, 937, 631]\n"
     ]
    }
   ],
   "source": [
    "inputNumbers = [100, 45, 78, 99, 456, 55, 432, 66, 190, 85, 35, 876, 9057, 79, 83, 89, 97, 900, 937, 631]\n",
    "factors = [2, 3, 5, 7, 11, 13, 17, 19, 23, 29]\n",
    "\n",
    "# Above is defined a list of 20 integers (when working with data this is a small amount of input values).\n",
    "# Also defined is a list of the first 10 prime numbers, which we can use as a way to approximate if the input numbers are prime.\n",
    "# If any of the input numbers are prime themselves, they will not be divisible by any of the factors\n",
    "# (a number is prime if it is not divisible by any other numbers).\n",
    "\n",
    "# define the Prime_Checker function which takes in an input number and outputs whether the input number is prime or not.\n",
    "# set default argument of Prime_Checker to be list of factors defined above.\n",
    "\n",
    "def Prime_Checker(num, factors = factors):\n",
    "    # Initialise a Boolean variable that will output if the input num is prime or not.\n",
    "    isPrime = True\n",
    "    \n",
    "    # for every value in the list in the list of factors, check if the input number is divisible by the value.\n",
    "    for value in factors:\n",
    "        # if the input is divisible by any of the values in the factors list, change the isPrime Boolean to False.\n",
    "        if num % value == 0:\n",
    "            isPrime = False\n",
    "    \n",
    "    # return Boolean value indicating if input number is prime\n",
    "    return isPrime\n",
    "\n",
    "# create an empty list which we can append any primeNumbers to\n",
    "primeNumbers = []\n",
    "\n",
    "# use a for loop to iterate through the inputNumbers to see if they are divisible by any of the factors.\n",
    "for num in inputNumbers:\n",
    "    \n",
    "    # store the Boolean value which is outputted for the num by the Prime_Checker function (defined above).\n",
    "    inputPrime = Prime_Checker(num, factors)\n",
    "    \n",
    "    # if num is a Prime then we append the num from inputNumbers to the primeNumbers list.\n",
    "    if inputPrime == True:\n",
    "        primeNumbers.append(num)\n",
    "        \n",
    "# once we've applied the Prime_Checker function to all of the num values in inputNumbers, \n",
    "# we can print the primeNumbers list to display which of of the input numbers are primes.\n",
    "\n",
    "print(primeNumbers)\n"
   ]
  },
  {
   "cell_type": "markdown",
   "metadata": {},
   "source": [
    "This is a great example of showing how programming can automate repetitive tasks to create results almost instantaneously. If I were to work out manually if 20 integers were prime by checking if each of those factors divided each input number, it would take me a significant amount of time. It would also introduce a large element of human error into the processing, as it's likely that at some point in the large number of calculations I would make a mistake.\n",
    "\n",
    "Furthermore, this example shows the utility of lists. If I wanted to check if any more numbers are prime, I would simply have to add them to the ```inputNumbers``` list. Similarly, I could quickly include more or fewer values in the list of factors to make our prime number approximator more or less accurate.\n",
    "\n",
    "It would be quite common when working with data to have datasets with thousands or millions of values in a column. To manually do calculations on this scale quickly becomes infeasible; however, with programming, we can do this quickly, easily, and accurately with relatively simple code."
   ]
  }
 ],
 "metadata": {
  "kernelspec": {
   "display_name": "Python 3",
   "language": "python",
   "name": "python3"
  },
  "language_info": {
   "codemirror_mode": {
    "name": "ipython",
    "version": 3
   },
   "file_extension": ".py",
   "mimetype": "text/x-python",
   "name": "python",
   "nbconvert_exporter": "python",
   "pygments_lexer": "ipython3",
   "version": "3.6.4"
  }
 },
 "nbformat": 4,
 "nbformat_minor": 2
}
