{
 "cells": [
  {
   "cell_type": "markdown",
   "metadata": {},
   "source": [
    "# Lesson 2a\n",
    "# Comparison & Boolean Operators\n",
    "\n",
    "As we've seen in previous lessons, at it's core, programming is simply a computer executing a series of instructions. However, programs can quickly become sophisticated and implement complex logical processes by using the output generated through the program to decide whether to skip instructions, repeat them or choose a specific segment of code to run.  In general, a programmer would rarely want their programs to start from the first line of code and simply execute every line, straight to the end. Flow control statements can decide which Python instructions to execute under which specific conditions. \n",
    "\n",
    "We can think of flow control as a way to programmatically navigate through a flowchart from start to end. In a flowchart there are generally more than one way to go from the starting point to the end point and the direction traveled through the flowchart is based on the answers given at each stage.\n",
    "\n",
    "![FLOWCHART](images/FLOWCHART.jpg)\n",
    "\n",
    "\n",
    "To learn how Python uses and compares values to make decisions, we will have to revisit Boolean variables and introduce comparison & Boolean operators."
   ]
  },
  {
   "cell_type": "markdown",
   "metadata": {},
   "source": [
    "## Boolean Type\n",
    "\n",
    "Recall that unlike strings or numerical data types, a Boolean is a simple data type with two possible values: ```True``` or ```False```.\n",
    "\n",
    "Boolean values are fundamental to the flow of logic in programming as based on whether a Boolean value is ```True``` or ```False```, Python will decide whether to skip, repeat or execute a specific section of code.\n",
    "\n",
    "## Comparison Operators\n",
    "\n",
    "Previously we have been introduced to mathematical operators (for example ```2 + 2```) which take two values and, depending on the data types, produce a single value. We will introduce operators that take two input values and always output either ```True``` or ```False```.\n",
    "\n",
    "Comparison operators compare two values and return a Boolean value, either ```True``` or ```False```:\n",
    "\n",
    "| Operation     | Description                       || Operation     | Description                          |\n",
    "|---------------|-----------------------------------||---------------|--------------------------------------|\n",
    "| ``a == b``    | ``a`` equal to ``b``              || ``a != b``    | ``a`` not equal to ``b``             |\n",
    "| ``a < b``     | ``a`` less than ``b``             || ``a > b``     | ``a`` greater than ``b``             |\n",
    "| ``a <= b``    | ``a`` less than or equal to ``b`` || ``a >= b``    | ``a`` greater than or equal to ``b`` |\n",
    "\n",
    "In general, comparison operators are used to compare numerical data types (such as ```int()``` and ```float()``` values) but it is possible to compare two string values and find if they are equal or not."
   ]
  },
  {
   "cell_type": "code",
   "execution_count": 1,
   "metadata": {},
   "outputs": [
    {
     "name": "stdout",
     "output_type": "stream",
     "text": [
      "True\n",
      "False\n",
      "False\n",
      "True\n"
     ]
    }
   ],
   "source": [
    "# Compare String Values\n",
    "\n",
    "print('Python' == 'Python')\n",
    "print(\"Python\" == \"Java\")\n",
    "print('Barclays' != 'Barclays')\n",
    "print(\"Python\" != \"Java\")"
   ]
  },
  {
   "cell_type": "code",
   "execution_count": 2,
   "metadata": {},
   "outputs": [
    {
     "name": "stdout",
     "output_type": "stream",
     "text": [
      "False\n",
      "True\n",
      "False\n",
      "True\n"
     ]
    }
   ],
   "source": [
    "# Compare Numerical Values\n",
    "\n",
    "print(9 == 10)\n",
    "print(10000 > 2)\n",
    "print(10 > 10)\n",
    "print(10 >= 10)"
   ]
  },
  {
   "cell_type": "code",
   "execution_count": 3,
   "metadata": {},
   "outputs": [
    {
     "name": "stdout",
     "output_type": "stream",
     "text": [
      "True\n",
      "False\n"
     ]
    }
   ],
   "source": [
    "# We can also combine the Arithmetic Operators that we've seen before with Comparison Operators\n",
    "\n",
    "# Are these Odd Numbers\n",
    "print(25 % 2 == 1)\n",
    "print(10 % 2 == 1)"
   ]
  },
  {
   "cell_type": "markdown",
   "metadata": {},
   "source": [
    "# The Difference Between the ==  and = Operators\n",
    "\n",
    "It's important to note that the ```==``` operator (equals to) has two equal signs, while the ```=``` operator, the assignment operator that we use when assigning values to a variable, has just one equal sign. It’s easy to confuse these two operators with each other. Just remember these points:\n",
    "\n",
    "- The ```==``` operator (equal to) asks whether two values are the same as each other. \n",
    "- For example, ``` 5 == 5 ``` evaluates to ```True```.\n",
    "- The ```=``` operator (assignment) puts the value on the right into the variable on the left. \n",
    "- For example, ```Age = 30``` assigns the value ```30``` to the variable named ```Age```.\n",
    "\n",
    "As a memory aid, notice that the ```==``` operator (equal to) consists of two characters, just like the ```!=``` operator (not equal to) consists of two characters. \n",
    "\n",
    "It can be a common mistake to use ```=``` in comparison operators when trying to see if two values are equal in flow control statements. Therefore, if you encounter an error with your comparison statements try double-checking the operator sign."
   ]
  },
  {
   "cell_type": "markdown",
   "metadata": {},
   "source": [
    "## Boolean Operators\n",
    "\n",
    "The three Boolean operators (```and```, ```or```, and ```not```) are used to compare Boolean values. Like comparison operators, they can evaluate expressions with multiple comparison operators  down to a single Boolean value. This allows us to combine multiple comparison operators so we can create complex flow control statements that can execute, repeat or skip sections of code based on very specific criteria.\n",
    "\n",
    "The ```and``` and ```or``` operators take two Boolean values and output a single Boolean value. \n",
    "\n",
    "The ```and``` operator will output ```True``` if both of the input values are ```True```; for any other combination of Boolean values it evaluates to ```False```."
   ]
  },
  {
   "cell_type": "code",
   "execution_count": 4,
   "metadata": {},
   "outputs": [
    {
     "name": "stdout",
     "output_type": "stream",
     "text": [
      "True\n",
      "False\n",
      "False\n",
      "False\n"
     ]
    }
   ],
   "source": [
    "# Test the output of all combinations of input Booleans with the 'and' operator.\n",
    "\n",
    "print(True and True) \n",
    "print(True and False)\n",
    "print(False and True)\n",
    "print(False and False)"
   ]
  },
  {
   "cell_type": "markdown",
   "metadata": {},
   "source": [
    "The ```or``` operator will output ```True``` if *either* of the input values are ```True```. If both input Booleans are ```False``` then the ```or``` operator will evaluate to ```False```."
   ]
  },
  {
   "cell_type": "code",
   "execution_count": 5,
   "metadata": {},
   "outputs": [
    {
     "name": "stdout",
     "output_type": "stream",
     "text": [
      "True\n",
      "True\n",
      "True\n",
      "False\n"
     ]
    }
   ],
   "source": [
    "# Test the output of all combinations of input Booleans with the 'or' operator.\n",
    "\n",
    "print(True or True)\n",
    "print(True or False)\n",
    "print(False or True)\n",
    "print(False or False)"
   ]
  },
  {
   "cell_type": "markdown",
   "metadata": {},
   "source": [
    "The ```not``` Boolean operator takes a single input Boolean value and simply returns the opposite value. "
   ]
  },
  {
   "cell_type": "code",
   "execution_count": 6,
   "metadata": {},
   "outputs": [
    {
     "name": "stdout",
     "output_type": "stream",
     "text": [
      "False\n",
      "True\n"
     ]
    }
   ],
   "source": [
    "# Test the output of all combinations of input Booleans with the 'not' operator.\n",
    "\n",
    "print(not True)\n",
    "print(not False)"
   ]
  },
  {
   "cell_type": "markdown",
   "metadata": {},
   "source": [
    "When using these Boolean operators, if you ever forget what output is given depending on the input variables you can always think of the context of these statements in the English language. \n",
    "\n",
    "For example if I were to tell you two pieces of information:\n",
    "\n",
    "- Barclays has an office in Glasgow. \n",
    "- Barclays has an office on the Moon.\n",
    "\n",
    "If I were to ask you:\n",
    "\n",
    "- Are statements 1 *and* 2 True? We would answer False as 2 is incorrect (unfortunately).\n",
    "- Are statements 1 *or* 2 True? We would answer True as statement 1 is True.\n",
    "- Is statement 1 *not* True? We would answer False as statement 1 is True.\n",
    "- Is statement 2 *not* True? We would answer True as statement 2 is False.\n",
    "\n",
    "We are so used to using these logical combinations everyday that we don't realise we are actually completing Boolean operations all the time in our heads. When we take our understanding of the English Language and apply it to these Boolean statements in Python, the output of the operators becomes logical. We can quickly translate the English Language problem above into code:"
   ]
  },
  {
   "cell_type": "code",
   "execution_count": 7,
   "metadata": {},
   "outputs": [
    {
     "name": "stdout",
     "output_type": "stream",
     "text": [
      "First Question: \n",
      "False\n",
      "Second Question: \n",
      "True\n",
      "Third Question: \n",
      "False\n",
      "Fourth Question: \n",
      "True\n"
     ]
    }
   ],
   "source": [
    "# Define statement 1 as True and store it in the variable officeGlasgow.\n",
    "\n",
    "officeGlasgow = True\n",
    "\n",
    "# Define statement 2 as False and store it in the variable officeMoon.\n",
    "\n",
    "officeMoon = False\n",
    "\n",
    "# Are statements 1 and 2 True?\n",
    "print(\"First Question: \")\n",
    "print(officeGlasgow and officeMoon)\n",
    "\n",
    "#  Are statements 1 or 2 True?\n",
    "print(\"Second Question: \")\n",
    "print(officeGlasgow or officeMoon)\n",
    "\n",
    "# Is Statement 1 not True?\n",
    "print(\"Third Question: \")\n",
    "print(not officeGlasgow)\n",
    "\n",
    "# Are statements 1 and 2 True?\n",
    "print(\"Fourth Question: \")\n",
    "print(not officeMoon) "
   ]
  },
  {
   "cell_type": "markdown",
   "metadata": {},
   "source": [
    "## Combining Comparison and Boolean Operation\n",
    "\n",
    "Since the output of Comparison operators always produces a Boolean value, we can combine multiple comparison operators with the Boolean operators ```and```, ```or``` and ```not```. This allows us to create conditional statements of any complexity. We can chain a large number of comparison operators together to control the flow of logic through our programs as accurately as we desire. Similarly to the mathematical operations, the Boolean operators always evaluate the ```not``` operators first before the ```and``` or ```or``` operators. It is generally good practise to wrap each comparison operator in brackets to make the code more readable. We can also incorporate mathematical operators, further increasing our ability to create sophisticated logical arguments"
   ]
  },
  {
   "cell_type": "code",
   "execution_count": 8,
   "metadata": {},
   "outputs": [
    {
     "name": "stdout",
     "output_type": "stream",
     "text": [
      "Please enter your year of birth: 1999\n",
      "Is the User older than 40 and were they born on an even birth year?\n",
      "False\n"
     ]
    }
   ],
   "source": [
    "# We can use input again to ask for information from the user.\n",
    "\n",
    "currentYear = 2025\n",
    "birthYear = int(input(\"Please enter your year of birth: \"))\n",
    "\n",
    "# We can now use comparison operators to give a bespoke output to the given inputs.\n",
    "\n",
    "print(\"Is the User older than 40 and were they born on an even birth year?\")\n",
    "\n",
    "# To answer the first question we need to calculate (currentYear - birthYear) >= 40 \n",
    "# To answer the second question we need to calculate birthYear % 2 == 0.\n",
    "# As the question asks if both facts are True - we need to use the 'and' operator. \n",
    "\n",
    "print((currentYear - birthYear) >= 40 and (birthYear % 2 == 0))"
   ]
  },
  {
   "cell_type": "markdown",
   "metadata": {},
   "source": [
    "This example, while fairly trivial, demonstrates how we can start to build complex logical programs by combining mathematical, comparison, and Boolean operators. These combinations allow us to start automating sophisticated processes quickly and easily with Python. "
   ]
  }
 ],
 "metadata": {
  "kernelspec": {
   "display_name": "Python 3",
   "language": "python",
   "name": "python3"
  },
  "language_info": {
   "codemirror_mode": {
    "name": "ipython",
    "version": 3
   },
   "file_extension": ".py",
   "mimetype": "text/x-python",
   "name": "python",
   "nbconvert_exporter": "python",
   "pygments_lexer": "ipython3",
   "version": "3.6.4"
  }
 },
 "nbformat": 4,
 "nbformat_minor": 2
}
