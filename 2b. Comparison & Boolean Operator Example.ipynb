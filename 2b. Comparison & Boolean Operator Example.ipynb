{
 "cells": [
  {
   "cell_type": "markdown",
   "metadata": {},
   "source": [
    "# Lesson 2b \n",
    "# Decision Making with Boolean & Comparison Operators \n",
    "\n",
    "In this example we will show how we can use comparison operators combined with Boolean values to make decisions based on input values. This is technically a very simple form of artificial intelligence!"
   ]
  },
  {
   "cell_type": "markdown",
   "metadata": {},
   "source": [
    "The task we've been set is that we're a bank that is deciding whether a couple applying for a loan should have their loan accepted or not. We have been provided with the following information about the pair applying:\n",
    "\n",
    "- Age\n",
    "- Salary\n",
    "- Relationship length\n",
    "- Credit rating (on a scale of 'Bad', 'Average' or 'Good')\n",
    "- Number of years of stable income\n",
    "\n",
    "As a bank we consider the following rules when accepting loans:\n",
    "\n",
    "- Loan amount must be no more than twice the combined annual salary of both applicants.\n",
    "- Both applicants must have either an 'Average' or a 'Good' credit rating.\n",
    "- Both applicants must be over 30 and have been in a relationship for 2 years.\n",
    "- Both applicants must average at least three years of stable income between them.\n",
    "\n",
    "Person 1:\n",
    "\n",
    "- 34 years old.\n",
    "- Has a stable salary of £80000 for 2 years.\n",
    "- Average credit rating.\n",
    "\n",
    "Person 2:\n",
    "\n",
    "- 30 years old.\n",
    "- Has a stable salary of £45000 for 6 years.\n",
    "- Good credit rating.\n",
    "\n",
    "Loan Applied For:\n",
    "\n",
    "- Amount: £150000\n",
    "- Relationship length: 4 years.\n",
    "\n",
    "Our task now is to convert the information above into Boolean values using comparison operators and then combine these Boolean values to create a final decision on whether the couple should be accepted for a loan."
   ]
  },
  {
   "cell_type": "code",
   "execution_count": 1,
   "metadata": {},
   "outputs": [],
   "source": [
    "# First lets convert the information above into variables.\n",
    "\n",
    "Person1_Age = 34\n",
    "Person1_Salary = 80000\n",
    "Person1_IncomeYears = 2\n",
    "Person1_Credit = 'Average'\n",
    "\n",
    "Person2_Age = 30\n",
    "Person2_Salary = 45000\n",
    "Person2_IncomeYears = 6\n",
    "Person2_Credit = 'Good'\n",
    "\n",
    "Relationship_Length = 4\n",
    "Loan_Applied_For = 150000"
   ]
  },
  {
   "cell_type": "code",
   "execution_count": 2,
   "metadata": {},
   "outputs": [
    {
     "name": "stdout",
     "output_type": "stream",
     "text": [
      "The Combined Salaries are: £125000\n",
      "The Maximum Loan they are eligible for is: £250000\n",
      "Is the Loan Amount Acceptable: True\n"
     ]
    }
   ],
   "source": [
    "# Next we need to see if the Loan Applied for is more than twice their combined Salaries\n",
    "\n",
    "Combined_Salaries = Person1_Salary + Person2_Salary\n",
    "print(\"The Combined Salaries are: £\" + str(Combined_Salaries))\n",
    "\n",
    "MaxLoan = Combined_Salaries * 2\n",
    "print(\"The Maximum Loan they are eligible for is: £\" + str(MaxLoan))\n",
    "\n",
    "LoanAmountAccepted = Loan_Applied_For <= MaxLoan\n",
    "print(\"Is the Loan Amount Acceptable: \" + str(LoanAmountAccepted))"
   ]
  },
  {
   "cell_type": "code",
   "execution_count": 3,
   "metadata": {},
   "outputs": [
    {
     "name": "stdout",
     "output_type": "stream",
     "text": [
      "Is Person 1 Credit Score Acceptable? True\n",
      "Is Person 2 Credit Score Acceptable? True\n",
      "Are the Combined Credit Scores Acceptable: True\n"
     ]
    }
   ],
   "source": [
    "# Now we need to if their credit scores are acceptable\n",
    "\n",
    "# Using or to see if the Credit is Good or Average, if one is True then the outcome is True!\n",
    "Person1Credit_Acceptable = (Person1_Credit == \"Average\" or Person1_Credit == \"Good\")\n",
    "print(\"Is Person 1 Credit Score Acceptable? \" + str(Person1Credit_Acceptable))\n",
    "\n",
    "Person2Credit_Acceptable = (Person2_Credit == \"Average\" or Person2_Credit == \"Good\")\n",
    "print(\"Is Person 2 Credit Score Acceptable? \" + str(Person2Credit_Acceptable))\n",
    "\n",
    "# For Combined Credit Score to Be Acceptable, both People need to have Acceptable Credit Ratings\n",
    "# Need to use and boolean operator!\n",
    "\n",
    "CreditScoresAcceptable = Person1Credit_Acceptable and Person2Credit_Acceptable\n",
    "print(\"Are the Combined Credit Scores Acceptable: \" + str(CreditScoresAcceptable))"
   ]
  },
  {
   "cell_type": "code",
   "execution_count": 4,
   "metadata": {},
   "outputs": [
    {
     "name": "stdout",
     "output_type": "stream",
     "text": [
      "Are the Ages Acceptable: True\n",
      "Is the Relationship Length Acceptable: True\n"
     ]
    }
   ],
   "source": [
    "# Next check if the Applicants meet the Age and Relationship Length Requirements\n",
    "\n",
    "# Use brackets to keep age comparison in a single line - use 'and' Boolean operator!\n",
    "AgesAcceptable = (Person1_Age >= 30) and (Person2_Age >= 30)\n",
    "print(\"Are the Ages Acceptable: \" + str(AgesAcceptable))\n",
    "\n",
    "# Check if Relationship Length is greater than or equal to 2\n",
    "RelLengthAcceptable = Relationship_Length >= 2\n",
    "print(\"Is the Relationship Length Acceptable: \" + str(RelLengthAcceptable))"
   ]
  },
  {
   "cell_type": "code",
   "execution_count": 5,
   "metadata": {},
   "outputs": [
    {
     "name": "stdout",
     "output_type": "stream",
     "text": [
      "Has the Loan been Approved? True\n"
     ]
    }
   ],
   "source": [
    "# Finally Combine all the Loan Requirement Variables Together to Reach a Final Verdict\n",
    "# All must be True for a Loan to be Accepted so we need multiple 'and' operators!\n",
    "\n",
    "LoanAccepted = LoanAmountAccepted and CreditScoresAcceptable and AgesAcceptable and RelLengthAcceptable\n",
    "print(\"Has the Loan been Approved? \" + str(LoanAccepted))"
   ]
  },
  {
   "cell_type": "markdown",
   "metadata": {},
   "source": [
    "As mentioned at the start, this is a basic form of artificial intelligence, where based on input data a decision is made on whether to offer clients a loan. The original problem can be broken down into multiple comparison operators, which can be combined using Boolean operators to output a final decision. \n",
    "\n",
    "The input variables have been chosen so that the pair applying passes the loan application process, we can try changing the input variables to see if our program is able to reject application that do not pass the bank's criteria (for example try changing ```Person2_Age``` to ```25```). \n",
    "\n",
    "We have now learned a lot of the foundational basics of Python, and in the next lesson we will introduce flow control statements - which is where Python starts to get really exciting!"
   ]
  }
 ],
 "metadata": {
  "kernelspec": {
   "display_name": "Python 3",
   "language": "python",
   "name": "python3"
  },
  "language_info": {
   "codemirror_mode": {
    "name": "ipython",
    "version": 3
   },
   "file_extension": ".py",
   "mimetype": "text/x-python",
   "name": "python",
   "nbconvert_exporter": "python",
   "pygments_lexer": "ipython3",
   "version": "3.6.4"
  }
 },
 "nbformat": 4,
 "nbformat_minor": 2
}
